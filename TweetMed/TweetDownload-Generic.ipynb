{
 "cells": [
  {
   "cell_type": "markdown",
   "metadata": {},
   "source": [
    "#TweetDownload\n",
    "\n",
    "Downloads tweets related to medical symptoms"
   ]
  },
  {
   "cell_type": "code",
   "execution_count": 1,
   "metadata": {
    "collapsed": false
   },
   "outputs": [],
   "source": [
    "import pickle\n",
    "from tweepy.streaming import StreamListener\n",
    "from tweepy import OAuthHandler\n",
    "from tweepy import Stream\n",
    "import time\n",
    "import gzip\n",
    "import sys"
   ]
  },
  {
   "cell_type": "markdown",
   "metadata": {},
   "source": [
    "#Credentials"
   ]
  },
  {
   "cell_type": "code",
   "execution_count": 2,
   "metadata": {
    "collapsed": true
   },
   "outputs": [],
   "source": [
    "consumer_key=\"\"\n",
    "consumer_secret=\"\"\n",
    "\n",
    "access_token=\"\"\n",
    "access_token_secret=\"\""
   ]
  },
  {
   "cell_type": "markdown",
   "metadata": {},
   "source": [
    "#Code"
   ]
  },
  {
   "cell_type": "code",
   "execution_count": 3,
   "metadata": {
    "collapsed": true
   },
   "outputs": [],
   "source": [
    "def get_name():\n",
    "    global gdatadir\n",
    "    global gprefix\n",
    "    t = int(time.time()*1000000)\n",
    "    if gdatadir:\n",
    "        return \"{}{}{}.json.gz\".format(gdatadir,gprefix,t)\n",
    "    else:\n",
    "        return \"{}{}.json.gz\".format(gprefix,t)"
   ]
  },
  {
   "cell_type": "code",
   "execution_count": 4,
   "metadata": {
    "collapsed": true
   },
   "outputs": [],
   "source": [
    "class MyListener(StreamListener):\n",
    "    \"\"\" A listener handles tweets are the received from the stream.\n",
    "    This listener writes out tweets in json format in groups of 1000 prt file\n",
    "    \"\"\"\n",
    "\n",
    "    def __init__(self):\n",
    "        self.fd = False\n",
    "        self.count = 0\n",
    "        self.max_tweets = 10000\n",
    "\n",
    "    def on_data(self, data):\n",
    "        if self.fd and self.count > self.max_tweets:\n",
    "            self.fd.close()\n",
    "            self.fd = False\n",
    "        if not self.fd:\n",
    "            print '*',\n",
    "            self.fd = gzip.open(get_name(), 'wb')\n",
    "            self.count = 0\n",
    "        #print(data)\n",
    "        self.fd.write(data)\n",
    "        self.count += 1\n",
    "        return True\n",
    "\n",
    "    def on_error(self, status):\n",
    "        print(\"error:{}\".format(status))\n",
    "\n",
    "    def on_timeout(self):\n",
    "        print(\"connection dropped\")\n",
    "        if self.fd:\n",
    "            self.fd.close()\n",
    "            self.fd = False\n",
    "        raise Exception(\"dropped connection\")"
   ]
  },
  {
   "cell_type": "code",
   "execution_count": 5,
   "metadata": {
    "collapsed": true
   },
   "outputs": [],
   "source": [
    "def tweet_dump(track=False, count=10, delay=60, datadir=False, prefix=''):\n",
    "    print 'starting tweet dump'\n",
    "    sys.stdout.flush()\n",
    "    global gdatadir\n",
    "    global gprefix\n",
    "    gdatadir = datadir\n",
    "    gprefix = prefix\n",
    "    l = MyListener()\n",
    "    auth = OAuthHandler(consumer_key, consumer_secret)\n",
    "    auth.set_access_token(access_token, access_token_secret)\n",
    "\n",
    "    while not count or count > 0:\n",
    "        try:\n",
    "            stream = Stream(auth, l)\n",
    "            if track:\n",
    "                stream.filter(track=track)\n",
    "            else:\n",
    "                stream.sample()\n",
    "        except Exception,e:\n",
    "            print 'Exception: ', e\n",
    "            if e != \"dropped connection\":\n",
    "                return\n",
    "        time.sleep(delay)\n",
    "        if count:\n",
    "            count -= 1"
   ]
  },
  {
   "cell_type": "markdown",
   "metadata": {},
   "source": [
    "#Analysis"
   ]
  },
  {
   "cell_type": "code",
   "execution_count": null,
   "metadata": {
    "collapsed": false
   },
   "outputs": [
    {
     "name": "stdout",
     "output_type": "stream",
     "text": [
      "162\n"
     ]
    }
   ],
   "source": [
    "combined_symptoms = pickle.load(open( \"symptoms.p\", \"rb\" ))\n",
    "print len(combined_symptoms)"
   ]
  },
  {
   "cell_type": "code",
   "execution_count": null,
   "metadata": {
    "collapsed": false
   },
   "outputs": [
    {
     "name": "stdout",
     "output_type": "stream",
     "text": [
      "starting tweet dump\n"
     ]
    }
   ],
   "source": [
    "tweet_dump(combined_symptoms)\n",
    "#tweet_dump()"
   ]
  },
  {
   "cell_type": "code",
   "execution_count": null,
   "metadata": {
    "collapsed": true
   },
   "outputs": [],
   "source": []
  }
 ],
 "metadata": {
  "kernelspec": {
   "display_name": "Python 2",
   "language": "python",
   "name": "python2"
  },
  "language_info": {
   "codemirror_mode": {
    "name": "ipython",
    "version": 2
   },
   "file_extension": ".py",
   "mimetype": "text/x-python",
   "name": "python",
   "nbconvert_exporter": "python",
   "pygments_lexer": "ipython2",
   "version": "2.7.9"
  }
 },
 "nbformat": 4,
 "nbformat_minor": 0
}

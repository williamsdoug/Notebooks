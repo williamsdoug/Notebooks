{
 "cells": [
  {
   "cell_type": "markdown",
   "metadata": {},
   "source": [
    "#Topic Modeling and Clustering\n",
    "\n",
    "Use topic modeling and clustering to categorize tweets (hopefully eliminating garbage tweets)\n",
    "\n",
    "see: https://radimrehurek.com/gensim/tut1.html"
   ]
  },
  {
   "cell_type": "code",
   "execution_count": 1,
   "metadata": {
    "collapsed": true
   },
   "outputs": [],
   "source": [
    "import pickle\n",
    "import gzip\n",
    "import sys\n",
    "from pprint import pprint\n",
    "import collections\n",
    "import os\n",
    "import json\n",
    "\n",
    "from pattern.en import parse\n",
    "from pattern.en import ngrams\n",
    "# import lshash\n",
    "import logging\n",
    "\n",
    "import nltk\n",
    "from nltk.corpus import stopwords\n",
    "from gensim import corpora, models, similarities\n",
    "import gensim.matutils\n",
    "\n",
    "import numpy as np\n",
    "import matplotlib.pyplot as plt\n",
    "\n",
    "from sklearn import metrics\n",
    "from sklearn.cluster import KMeans"
   ]
  },
  {
   "cell_type": "code",
   "execution_count": 2,
   "metadata": {
    "collapsed": false
   },
   "outputs": [],
   "source": [
    "import pattern\n",
    "import pattern.en"
   ]
  },
  {
   "cell_type": "markdown",
   "metadata": {},
   "source": [
    "#Configure"
   ]
  },
  {
   "cell_type": "code",
   "execution_count": 3,
   "metadata": {
    "collapsed": true
   },
   "outputs": [],
   "source": [
    "logging.basicConfig(format='%(asctime)s : %(levelname)s : %(message)s', level=logging.INFO)"
   ]
  },
  {
   "cell_type": "code",
   "execution_count": 4,
   "metadata": {
    "collapsed": true
   },
   "outputs": [],
   "source": [
    "NUM_TOPICS = 10"
   ]
  },
  {
   "cell_type": "markdown",
   "metadata": {},
   "source": [
    "#Code"
   ]
  },
  {
   "cell_type": "code",
   "execution_count": 5,
   "metadata": {
    "collapsed": false
   },
   "outputs": [],
   "source": [
    "def buildModel(corpus, modelType='lsi', num_topics=NUM_TOPICS, verbose=False,\n",
    "              iterations=500, passes=20):  # interations and passes inly used for lda\n",
    "    # Apply tf-idf\n",
    "    tfidf = models.TfidfModel(corpus) # build tfidf model\n",
    "    corpus_tfidf = tfidf[corpus]  # Normalize corpus\n",
    "    \n",
    "    if modelType == 'lsi':\n",
    "        model = models.LsiModel(corpus_tfidf, id2word=dictionary, num_topics=NUM_TOPICS) # initialize an LSI transformation\n",
    "\n",
    "    elif modelType == 'lda':\n",
    "        model = models.LdaModel(corpus, id2word=dictionary,\n",
    "                                num_topics=num_topics,\n",
    "                                iterations=500, passes=20)\n",
    "    elif modelType == 'hdp':\n",
    "        model = models.HdpModel(corpus, id2word=dictionary)\n",
    "    else:\n",
    "        print 'Unknown model type: {}'.format(modelType)\n",
    "        raise Exception\n",
    "        \n",
    "    if verbose:\n",
    "        showTopics(model)\n",
    "        \n",
    "    transformed_corpus = model[corpus_tfidf]\n",
    "    \n",
    "    return transformed_corpus, model"
   ]
  },
  {
   "cell_type": "code",
   "execution_count": 6,
   "metadata": {
    "collapsed": true
   },
   "outputs": [],
   "source": [
    "def showTopics(model):\n",
    "    if (isinstance(model, gensim.models.lsimodel.LsiModel)\n",
    "            or isinstance(model, gensim.models.ldamodel.LdaModel)):\n",
    "        pprint(model.show_topics(formatted=False))\n",
    "    elif isinstance(model, gensim.models.hdpmodel.HdpModel):\n",
    "        pprint(model.show_topics(topics=10, topn=5, formatted=False))\n",
    "    else:\n",
    "        print 'Unknown model type'"
   ]
  },
  {
   "cell_type": "code",
   "execution_count": 7,
   "metadata": {
    "collapsed": true
   },
   "outputs": [],
   "source": [
    "def clusterTweets(tweets, tweetCorpus, n_clusters=30):\n",
    "    \"\"\"Apply clustering to a set of tweets and pring results\"\"\"\n",
    "    \n",
    "    #Convert from Gensim format to numpy/scipy for use by sklearm\n",
    "    tweetMatrix = gensim.matutils.corpus2csc(tweetCorpus).T\n",
    "    \n",
    "    estimator = KMeans(init='k-means++', n_clusters=n_clusters, n_init=10)\n",
    "    cluster_idx = estimator.fit_predict(tweetMatrix) \n",
    "    \n",
    "    # Now show Sample tweets for each centroid\n",
    "    for i in range(n_clusters):\n",
    "        print\n",
    "        print\n",
    "        print '***** Cluster: {} *****'.format(i)\n",
    "        for j in range(len(cluster_idx)):\n",
    "            if i == cluster_idx[j]:\n",
    "                print '  ', j, ':', tweets[j]['text']"
   ]
  },
  {
   "cell_type": "code",
   "execution_count": 8,
   "metadata": {
    "collapsed": false
   },
   "outputs": [],
   "source": [
    "def countKeywords(keywords, parsedText):\n",
    "    \"\"\"Count instances of symptoms\"\"\"\n",
    "    keywords = set(keywords)\n",
    "    keywords_counts = collections.defaultdict(int)\n",
    "    for entry in parsedText:\n",
    "        filtered_entry = {filterToken(e) for e in entry}\n",
    "        entry_keywords = keywords.intersection(filtered_entry)\n",
    "        for k in entry_keywords:\n",
    "            keywords_counts[k] += 1\n",
    "    pprint(sorted(keywords_counts.items(), key=lambda x:x[1], reverse=True))"
   ]
  },
  {
   "cell_type": "code",
   "execution_count": 9,
   "metadata": {
    "collapsed": true
   },
   "outputs": [],
   "source": [
    "def analyseTweet(entry, previouslyParsed=False):\n",
    "    \"\"\"Get sentiment, mood, and modality of tweet\"\"\"\n",
    "    line = ' '.join(entry) if previouslyParsed else entry\n",
    "    polarity, subjectivity = pattern.en.sentiment(line)\n",
    "    s = pattern.en.Sentence(pattern.en.parse(line, lemmata=True))\n",
    "    return polarity, subjectivity, pattern.en.mood(s), pattern.en.modality(s)"
   ]
  },
  {
   "cell_type": "code",
   "execution_count": 10,
   "metadata": {
    "collapsed": true
   },
   "outputs": [],
   "source": [
    "def getSentimentPolarity(line):\n",
    "    \"\"\"Get sentiment of tweet\"\"\"\n",
    "    polarity, subjectivity = pattern.en.sentiment(line)\n",
    "    return polarity"
   ]
  },
  {
   "cell_type": "markdown",
   "metadata": {},
   "source": [
    "###Code copied from CleanseMedTweets notebook"
   ]
  },
  {
   "cell_type": "code",
   "execution_count": 11,
   "metadata": {
    "collapsed": true
   },
   "outputs": [],
   "source": [
    "from pattern.en.wordlist import BASIC as BASIC_WORDS"
   ]
  },
  {
   "cell_type": "code",
   "execution_count": 12,
   "metadata": {
    "collapsed": true
   },
   "outputs": [],
   "source": [
    "def filterToken(tok):\n",
    "    \"\"\"Removes @ and # from token\"\"\"\n",
    "    return tok[1:] if (tok.startswith('#') or tok.startswith('@')) else tok"
   ]
  },
  {
   "cell_type": "code",
   "execution_count": 13,
   "metadata": {
    "collapsed": true
   },
   "outputs": [],
   "source": [
    "def createDrugLookupTable(fname):\n",
    "    \"\"\"Converts drug list to set for performing token lookups\n",
    "    For ngrame names, only use the first word in name\"\"\"\n",
    "\n",
    "    drug_list = pickle.load(open(fname, \"rb\" ))\n",
    "    idx_drugs = {name.strip().lower().split()[0] for name in drug_list}\n",
    "    # Remove drug names that are also part of the basic english language\n",
    "    idx_drugs = idx_drugs.difference({ w.lower() for w in BASIC_WORDS})\n",
    "    print 'Total Unique Drug Name Prefixes: {0} in file {1}'.format(len(idx_drugs), fname)\n",
    "    return idx_drugs"
   ]
  },
  {
   "cell_type": "markdown",
   "metadata": {},
   "source": [
    "#Load data"
   ]
  },
  {
   "cell_type": "code",
   "execution_count": 14,
   "metadata": {
    "collapsed": true
   },
   "outputs": [],
   "source": [
    "deduped_tweets = pickle.load(open( \"deduped_tweets.p\", \"rb\" ))"
   ]
  },
  {
   "cell_type": "code",
   "execution_count": 15,
   "metadata": {
    "collapsed": false
   },
   "outputs": [],
   "source": [
    "stoplist = stopwords.words('english')"
   ]
  },
  {
   "cell_type": "code",
   "execution_count": 16,
   "metadata": {
    "collapsed": true
   },
   "outputs": [],
   "source": [
    "combined_symptoms = pickle.load(open(\"symptoms.p\", \"rb\" ))"
   ]
  },
  {
   "cell_type": "markdown",
   "metadata": {},
   "source": [
    "#Explore Sentiment, Mood, Modality "
   ]
  },
  {
   "cell_type": "markdown",
   "metadata": {},
   "source": [
    "####Sentiment\n",
    "The sentiment() function returns a (polarity, subjectivity)-tuple for the given sentence, based on the adjectives it contains, where polarity is a value between -1.0 and +1.0 and subjectivity between 0.0 and 1.0.\n",
    "\n",
    "####Mood\n",
    "The mood() function returns either INDICATIVE, IMPERATIVE, CONDITIONAL or SUBJUNCTIVE for a given parsed Sentence. See the table below for an overview of moods.\n",
    "\n",
    "\n",
    "Mood |\tForm |Use| Example\n",
    "-----|-------|---|---------\n",
    "INDICATIVE|none of the below \t|fact, belief\t|It rains.\n",
    "IMPERATIVE|\tinfinitive without to\t|command, warning\t|Don't rain!\n",
    "CONDITIONAL|\twould, could, should, may, or will, can + if\t|conjecture\t|It might rain.\n",
    "SUBJUNCTIVE|\twish, were, or it is + infinitive\t|wish, opinion\t|I hope it rains.\n",
    "\n",
    "\n",
    "####Modality\n",
    "The modality() function returns the degree of certainty as a value between -1.0 and +1.0, where values > +0.5 represent facts. For example, \"I wish it would stop raining\" scores -0.35, whereas \"It will stop raining\" scores +0.75. Accuracy is about 68% for Wikipedia texts."
   ]
  },
  {
   "cell_type": "markdown",
   "metadata": {},
   "source": [
    "###Tweets with negative sentiment"
   ]
  },
  {
   "cell_type": "code",
   "execution_count": 17,
   "metadata": {
    "collapsed": false,
    "scrolled": true
   },
   "outputs": [
    {
     "name": "stdout",
     "output_type": "stream",
     "text": [
      "one week off the vasopressin; our son's anxiety is back, hitting himself, and the repetitive behavior-all back #asd http://t.co/movz6tp7kw\n",
      "Sentiment -- Polarity: -0.0833333333333, Subjectivity: 0.0833333333333\n",
      "Mood: indicative Modality: 0.625\n",
      "\n",
      "promethazine is nausea medicine chill ur not that hard\n",
      "Sentiment -- Polarity: -0.291666666667, Subjectivity: 0.541666666667\n",
      "Mood: indicative Modality: 1.0\n",
      "\n",
      "@yungtaxi @wolfiehan yasmin chill u hoe :/\n",
      "Sentiment -- Polarity: -0.25, Subjectivity: 1.0\n",
      "Mood: indicative Modality: 1.0\n",
      "\n",
      "green tea for weight loss!!! - http://t.co/pxgywpyzup #diabetes #diabetic #diabetics #insulin\n",
      "Sentiment -- Polarity: -0.390625, Subjectivity: 0.3\n",
      "Mood: indicative Modality: 1.0\n",
      "\n",
      "was planning to enter three scripts in the @nywift fellowship but got sick. now will attempt one or two through codeine haze.\n",
      "Sentiment -- Polarity: -0.714285714286, Subjectivity: 0.857142857143\n",
      "Mood: conditional Modality: 0.75\n",
      "\n",
      "soma, sci-fi horror game from amnesia devs, gets trailer and sept ... http://t.co/pscdeps3nr\n",
      "Sentiment -- Polarity: -0.4, Subjectivity: 0.4\n",
      "Mood: indicative Modality: 0.75\n",
      "\n",
      "codeine crazy my smokin song bruh. too chill &amp; too real.\n",
      "Sentiment -- Polarity: -0.2, Subjectivity: 0.6\n",
      "Mood: indicative Modality: 0.5\n",
      "\n",
      "the “sick care” system strikes again with ivokana and type 2 diabetes - http://t.co/hg8h6eoink #diabetes #diabetic #diabetics #insulin\n",
      "Sentiment -- Polarity: -0.714285714286, Subjectivity: 0.857142857143\n",
      "Mood: indicative Modality: 0.75\n",
      "\n",
      "dear percocet,\n",
      "you were supposed to make my pain go away, not make me sick. fuck. you. 😖\n",
      "no love,\n",
      "lori\n",
      "Sentiment -- Polarity: -0.454761904762, Subjectivity: 0.685714285714\n",
      "Mood: indicative Modality: 0.25\n",
      "\n",
      "phentermine average weight loss per week ebook: phentermine average weight loss per week - the 3 week diet - o... http://t.co/libhygqukg\n",
      "Sentiment -- Polarity: -0.15, Subjectivity: 0.4\n",
      "Mood: indicative Modality: 0.75\n",
      "\n"
     ]
    }
   ],
   "source": [
    "if True:\n",
    "    for tweet in deduped_tweets[:40]:\n",
    "        line = tweet['text']\n",
    "        polarity, subjectivity, mood, modality = analyseTweet(line)\n",
    "        if polarity < 0:\n",
    "            print line\n",
    "            print 'Sentiment -- Polarity: {0}, Subjectivity: {1}'.format(polarity, subjectivity)\n",
    "            print 'Mood:', mood, 'Modality:', modality\n",
    "            print"
   ]
  },
  {
   "cell_type": "markdown",
   "metadata": {},
   "source": [
    "###Tweets with positive or neutral sentiment"
   ]
  },
  {
   "cell_type": "code",
   "execution_count": 18,
   "metadata": {
    "collapsed": false
   },
   "outputs": [
    {
     "name": "stdout",
     "output_type": "stream",
     "text": [
      "@billygunn19 they put me on it to counteract the decrease in hunger from the wellbutrin. thankfully i could use a few pounds :)\n",
      "Sentiment -- Polarity: 0.15, Subjectivity: 0.55\n",
      "Mood: conditional Modality: 0.0\n",
      "\n",
      "listen to lecture on overcoming sadness and depression - yasmin mogahed by yasmin.mogahed #np on #soundcloud\n",
      "http://t.co/kfehqx4yw1\n",
      "Sentiment -- Polarity: 0.0, Subjectivity: 0.0\n",
      "Mood: indicative Modality: 0.75\n",
      "\n",
      "diabetes treatment drug, metformin, could help prevent blindness according #diabetesfree, #diabetes, #stopdiabetes http://t.co/au8xfme5jm\n",
      "Sentiment -- Polarity: 0.0, Subjectivity: 0.0\n",
      "Mood: conditional Modality: 0.0\n",
      "\n",
      "#ovariancyst risk factors: infertility treatment, tamoxifen, pregnancy, hypothyroidism, maternal gonadotropins, cigarettes, tubal ligation\n",
      "Sentiment -- Polarity: 0.0, Subjectivity: 0.0\n",
      "Mood: indicative Modality: 0.75\n",
      "\n",
      "re: vaccine treatments for brain tumours: dexamethasone remains critical to control edema, but does this inhibit immune therapy? #asco15\n",
      "Sentiment -- Polarity: 0.0, Subjectivity: 0.8\n",
      "Mood: indicative Modality: 0.75\n",
      "\n",
      "tramadol prescription pain medication spike emergency room visits http://t.co/cqbpznajmr\n",
      "Sentiment -- Polarity: 0.0, Subjectivity: 0.0\n",
      "Mood: indicative Modality: 1.0\n",
      "\n",
      "quick question! which gains muscle faster? insulin or carbohydrates?😏 @ me✌️\n",
      "Sentiment -- Polarity: 0.416666666667, Subjectivity: 0.5\n",
      "Mood: indicative Modality: 0.0\n",
      "\n",
      "#healthy #nutrition phentermine diet pills for weight loss http://t.co/pxsjttcdvm\n",
      "Sentiment -- Polarity: 0.5, Subjectivity: 0.5\n",
      "Mood: indicative Modality: 1.0\n",
      "\n",
      "@jacob_ladder @besafe71 try zyrtec, works the same w/o the drowsiness.\n",
      "Sentiment -- Polarity: 0.0, Subjectivity: 0.125\n",
      "Mood: indicative Modality: 1.0\n",
      "\n",
      "codeine wat am sippin gas wat am inhaling rollin upp dutches damn ma mama yelling chill out y u trippin fukin upp ma section!!!\n",
      "Sentiment -- Polarity: 0.0, Subjectivity: 0.0\n",
      "Mood: indicative Modality: 1.0\n",
      "\n",
      "#fitbit #exercise phentermine diet pills for weight loss http://t.co/lewmcinmc1 #edsheeran #fatloss\n",
      "Sentiment -- Polarity: 0.0, Subjectivity: 0.0\n",
      "Mood: indicative Modality: 1.0\n",
      "\n",
      "#solution #fitness phentermine diet pills for weight loss http://t.co/yjb2s58o6e #rays #sports\n",
      "Sentiment -- Polarity: 0.0, Subjectivity: 0.0\n",
      "Mood: indicative Modality: 1.0\n",
      "\n",
      "#jeremylin #nba phentermine diet pills for weight loss http://t.co/ke7ch258sv #health #workout\n",
      "Sentiment -- Polarity: 0.0, Subjectivity: 0.0\n",
      "Mood: indicative Modality: 1.0\n",
      "\n",
      "free prilosec sample for heartburn (new link) http://t.co/fr70xvvxp2) http://t.co/9wn1skegde\n",
      "Sentiment -- Polarity: 0.268181818182, Subjectivity: 0.627272727273\n",
      "Mood: indicative Modality: 0.75\n",
      "\n",
      "fit 2006-2010 06-09 10 hyundai sonata wind deflector window visor sun guard 4pc http://t.co/ncuhhmgggj http://t.co/jluvx8d2gx\n",
      "Sentiment -- Polarity: 0.4, Subjectivity: 0.4\n",
      "Mood: indicative Modality: 0.75\n",
      "\n",
      "damfuggin abilify commercial... smh glad i got my depression under control. just sayin'. lol! but for real #mentalhealth is serious\n",
      "Sentiment -- Polarity: 0.273333333333, Subjectivity: 0.533333333333\n",
      "Mood: indicative Modality: 0.5\n",
      "\n",
      "can't go joy riding cause ain't no gas in the sonata.\n",
      "Sentiment -- Polarity: 0.8, Subjectivity: 0.2\n",
      "Mood: indicative Modality: 0.0\n",
      "\n",
      "is it #codeine is it #redwine? is it a bit of both? stay tuned until the next episode! #chill… https://t.co/7l519pdvso\n",
      "Sentiment -- Polarity: 0.0, Subjectivity: 0.0\n",
      "Mood: indicative Modality: 1.0\n",
      "\n",
      "tbh i do like to drink because it helps my anxiety in a more social way unlike xanax wich just puts me further into the corner\n",
      "Sentiment -- Polarity: 0.177777777778, Subjectivity: 0.355555555556\n",
      "Mood: imperative Modality: 0.25\n",
      "\n",
      "#elliegoulding phentermine diet pills for weight loss http://t.co/vbypcz2luq ellie goulding\n",
      "Sentiment -- Polarity: 0.0, Subjectivity: 0.0\n",
      "Mood: indicative Modality: 1.0\n",
      "\n",
      "ive never experienced more anxiety than watching san andreas i need a fuking xanax\n",
      "Sentiment -- Polarity: 0.05, Subjectivity: 0.7\n",
      "Mood: indicative Modality: 1.0\n",
      "\n",
      "check this deal : http://t.co/scgrmjeiem #8223 5 lb. l glycine powder pure energy muscle brain health pharmaceuti… http://t.co/zfows0asuk\n",
      "Sentiment -- Polarity: 0.214285714286, Subjectivity: 0.5\n",
      "Mood: indicative Modality: 0.75\n",
      "\n",
      "heard from someone else who recently had their dosage of sertraline increased, and they reported the same side-effects (anxiety/lethargy).\n",
      "Sentiment -- Polarity: 0.0, Subjectivity: 0.1875\n",
      "Mood: indicative Modality: 0.45\n",
      "\n",
      "\"sometimes it feels like we're all living in a prozac nation. the united states of depression.\"\n",
      "-prozac nation\n",
      "Sentiment -- Polarity: 0.0, Subjectivity: 0.0\n",
      "Mood: indicative Modality: 0.392857142857\n",
      "\n",
      "this life without anxiety shit is great. i'm so much less anxious these days. thanks lyrica.\n",
      "Sentiment -- Polarity: 0.0766666666667, Subjectivity: 0.563333333333\n",
      "Mood: indicative Modality: 1.0\n",
      "\n",
      "#stanakatic phentermine diet pills for weight loss http://t.co/apk1t46zof #hollywood #celeb\n",
      "Sentiment -- Polarity: 0.0, Subjectivity: 0.0\n",
      "Mood: indicative Modality: 1.0\n",
      "\n",
      "my name anagrams to dialyte l which is also the name of my new weight loss product which you can try now for free no obligation!b!\n",
      "Sentiment -- Polarity: 0.318181818182, Subjectivity: 0.627272727273\n",
      "Mood: indicative Modality: 0.125\n",
      "\n",
      "the chills you sometimes get when listening to music is actually caused by the release of dopamine in your body.\n",
      "Sentiment -- Polarity: 0.0, Subjectivity: 0.1\n",
      "Mood: imperative Modality: 0.0\n",
      "\n",
      "more xanax and maalox, stat! :-) #gutfeld rt @greggutfeld: it's 45 minutes away and the butterflies in my stomach have diarrhea. #gutfeld\n",
      "Sentiment -- Polarity: 0.5625, Subjectivity: 0.75\n",
      "Mood: indicative Modality: 0.5\n",
      "\n",
      "sippin on codeine it ease my pain\n",
      "Sentiment -- Polarity: 0.0, Subjectivity: 0.0\n",
      "Mood: imperative Modality: 0.25\n",
      "\n"
     ]
    }
   ],
   "source": [
    "if True:\n",
    "    for tweet in deduped_tweets[:40]:\n",
    "        line = tweet['text']\n",
    "        polarity, subjectivity, mood, modality = analyseTweet(line)\n",
    "        if polarity >= 0:\n",
    "            print line\n",
    "            print 'Sentiment -- Polarity: {0}, Subjectivity: {1}'.format(polarity, subjectivity)\n",
    "            print 'Mood:', mood, 'Modality:', modality\n",
    "            print"
   ]
  },
  {
   "cell_type": "markdown",
   "metadata": {},
   "source": [
    "#Build Dictionary\n",
    "\n",
    "- Only include tweets with negative sentiment\n",
    "- remove stopwords (k-means and gensim only)\n",
    "- remove singular words (k-means and gensim only)"
   ]
  },
  {
   "cell_type": "code",
   "execution_count": 19,
   "metadata": {
    "collapsed": false
   },
   "outputs": [],
   "source": [
    "parsedText = [[one_gram[0] for one_gram in ngrams(tweet['text'], n=1)]\n",
    "              for tweet in deduped_tweets\n",
    "              if getSentimentPolarity(tweet['text']) < 0]"
   ]
  },
  {
   "cell_type": "code",
   "execution_count": 20,
   "metadata": {
    "collapsed": false
   },
   "outputs": [
    {
     "name": "stdout",
     "output_type": "stream",
     "text": [
      "Before: 721   After:165\n"
     ]
    }
   ],
   "source": [
    "print 'Before: {}   After:{}'.format(len(deduped_tweets), len(parsedText))"
   ]
  },
  {
   "cell_type": "code",
   "execution_count": 21,
   "metadata": {
    "collapsed": false
   },
   "outputs": [
    {
     "name": "stdout",
     "output_type": "stream",
     "text": [
      "Dictionary(1319 unique tokens: [u'all', u':/', u':(', u'forget', u'bengoldacre']...)\n"
     ]
    }
   ],
   "source": [
    "dictionary = corpora.Dictionary(parsedText)\n",
    "print(dictionary)"
   ]
  },
  {
   "cell_type": "code",
   "execution_count": 22,
   "metadata": {
    "collapsed": false
   },
   "outputs": [
    {
     "name": "stdout",
     "output_type": "stream",
     "text": [
      "Dictionary(258 unique tokens: [u':/', u':(', u'forget', u'prometh', u'resistance']...)\n"
     ]
    }
   ],
   "source": [
    "# remove stop words and words that appear only once\n",
    "stop_ids = [dictionary.token2id[stopword] for stopword in stoplist\n",
    "            if stopword in dictionary.token2id]\n",
    "once_ids = [tokenid for tokenid, docfreq in dictionary.dfs.iteritems() if docfreq == 1]\n",
    "dictionary.filter_tokens(stop_ids + once_ids) # remove stop words and words that appear only once\n",
    "dictionary.compactify() # remove gaps in id sequence after words that were removed\n",
    "print(dictionary)"
   ]
  },
  {
   "cell_type": "code",
   "execution_count": 23,
   "metadata": {
    "collapsed": false
   },
   "outputs": [
    {
     "name": "stdout",
     "output_type": "stream",
     "text": [
      "165\n"
     ]
    }
   ],
   "source": [
    "corpus = [dictionary.doc2bow(line) for line in parsedText]\n",
    "print len(corpus)"
   ]
  },
  {
   "cell_type": "markdown",
   "metadata": {},
   "source": [
    "#Apply K-Means directly to tweets"
   ]
  },
  {
   "cell_type": "code",
   "execution_count": 24,
   "metadata": {
    "collapsed": false
   },
   "outputs": [
    {
     "name": "stdout",
     "output_type": "stream",
     "text": [
      "\n",
      "\n",
      "***** Cluster: 0 *****\n",
      "   1 : @billygunn19 they put me on it to counteract the decrease in hunger from the wellbutrin. thankfully i could use a few pounds :)\n",
      "   14 : free prilosec sample for heartburn (new link) http://t.co/fr70xvvxp2) http://t.co/9wn1skegde\n",
      "   25 : soma, sci-fi horror game from amnesia devs, gets trailer and sept ... http://t.co/pscdeps3nr\n",
      "   28 : check this deal : http://t.co/scgrmjeiem #8223 5 lb. l glycine powder pure energy muscle brain health pharmaceuti… http://t.co/zfows0asuk\n",
      "   29 : heard from someone else who recently had their dosage of sertraline increased, and they reported the same side-effects (anxiety/lethargy).\n",
      "   39 : phentermine average weight loss per week ebook: phentermine average weight loss per week - the 3 week diet - o... http://t.co/libhygqukg\n",
      "   42 : \"would you rather have adult acne (ew!) or bloody diarrhea  (yay!)?\" a summary of the commercial i just heard for onexton.\n",
      "   143 : @okuutheengineer shit...do you have neosporin or something to stop the sensitivity and bleeding? hard scabs will just chafe off again\n",
      "\n",
      "\n",
      "***** Cluster: 1 *****\n",
      "   22 : #elliegoulding phentermine diet pills for weight loss http://t.co/vbypcz2luq ellie goulding\n",
      "   31 : dear percocet,\n",
      "you were supposed to make my pain go away, not make me sick. fuck. you. 😖\n",
      "no love,\n",
      "lori\n",
      "   46 : weight loss tips - great recipe tips: your weight loss tips : avoid carbs and insulin. because consuming carbo... http://t.co/daant0ggnr\n",
      "   92 : @ilovaussiesheps @interneteh @rex4711 it's oxy and tylenol. that and morphine work for my pain. nothing else. but i only take aspirin daily.\n",
      "   150 : once a person gives me the warm, fuzzy feeling in my stomach that xanax gives me, i will marry that person.\n",
      "   152 : when i finally had unbearable pain from ibs i popped one. nigga 30min later, i floatin, pure bliss, euphoric and laxed like a mf #oxycontin\n",
      "\n",
      "\n",
      "***** Cluster: 2 *****\n",
      "   78 : yeast infection diflucan http://t.co/ejaatowpqc\n",
      "   105 : @llc00ljas_23 will give you promethazine for the cough i hope you get better !\n",
      "   107 : @homurasakibara soma said it fit him ....... im....\n",
      "   109 : @aleynamorehuman @chinupclub nuvigil helps my fatigue. but i do weird things like bounce my leg or rub my tongue on my teeth 'til it's raw\n",
      "   110 : the body only needs 60 units of insulin and 30 minutes after the injection to go into shock and cause sugars to become dangerously low\n",
      "   140 : @mikayla_workman when you on morphine and let someone pain ur face like it's catching fire up in here\n",
      "\n",
      "\n",
      "***** Cluster: 3 *****\n",
      "   0 : one week off the vasopressin; our son's anxiety is back, hitting himself, and the repetitive behavior-all back #asd http://t.co/movz6tp7kw\n",
      "   2 : listen to lecture on overcoming sadness and depression - yasmin mogahed by yasmin.mogahed #np on #soundcloud\n",
      "http://t.co/kfehqx4yw1\n",
      "   4 : #ovariancyst risk factors: infertility treatment, tamoxifen, pregnancy, hypothyroidism, maternal gonadotropins, cigarettes, tubal ligation\n",
      "   5 : re: vaccine treatments for brain tumours: dexamethasone remains critical to control edema, but does this inhibit immune therapy? #asco15\n",
      "   6 : tramadol prescription pain medication spike emergency room visits http://t.co/cqbpznajmr\n",
      "   7 : quick question! which gains muscle faster? insulin or carbohydrates?😏 @ me✌️\n",
      "   10 : codeine wat am sippin gas wat am inhaling rollin upp dutches damn ma mama yelling chill out y u trippin fukin upp ma section!!!\n",
      "   12 : #solution #fitness phentermine diet pills for weight loss http://t.co/yjb2s58o6e #rays #sports\n",
      "   13 : #jeremylin #nba phentermine diet pills for weight loss http://t.co/ke7ch258sv #health #workout\n",
      "   15 : fit 2006-2010 06-09 10 hyundai sonata wind deflector window visor sun guard 4pc http://t.co/ncuhhmgggj http://t.co/jluvx8d2gx\n",
      "   16 : promethazine is nausea medicine chill ur not that hard\n",
      "   17 : @yungtaxi @wolfiehan yasmin chill u hoe :/\n",
      "   18 : damfuggin abilify commercial... smh glad i got my depression under control. just sayin'. lol! but for real #mentalhealth is serious\n",
      "   19 : can't go joy riding cause ain't no gas in the sonata.\n",
      "   20 : is it #codeine is it #redwine? is it a bit of both? stay tuned until the next episode! #chill… https://t.co/7l519pdvso\n",
      "   27 : codeine crazy my smokin song bruh. too chill &amp; too real.\n",
      "   30 : the “sick care” system strikes again with ivokana and type 2 diabetes - http://t.co/hg8h6eoink #diabetes #diabetic #diabetics #insulin\n",
      "   32 : \"sometimes it feels like we're all living in a prozac nation. the united states of depression.\"\n",
      "-prozac nation\n",
      "   34 : #stanakatic phentermine diet pills for weight loss http://t.co/apk1t46zof #hollywood #celeb\n",
      "   36 : the chills you sometimes get when listening to music is actually caused by the release of dopamine in your body.\n",
      "   37 : more xanax and maalox, stat! :-) #gutfeld rt @greggutfeld: it's 45 minutes away and the butterflies in my stomach have diarrhea. #gutfeld\n",
      "   38 : sippin on codeine it ease my pain\n",
      "   40 : is zithromax good for yeast infection http://t.co/k1ekga5aov\n",
      "   41 : cuddling with loved ones releases oxytocin, a hormone which reduces stress and prevents nausea and headaches.\n",
      "   45 : @currageous it gives me so much anxiety. i need a veep-sized xanax\n",
      "   47 : @nursschoolprob fioricet, tylenol, advil, coffee like a maniac, nothing helped. oh and the nausea was the best! i think i lost like 5 lbs.\n",
      "   49 : @abbiehibsch if ur that scared take a valium and chill man.\n",
      "   50 : @glittermepink22 my physical ailments are causing me anxiety... hence the lorazepam... lol\n",
      "   51 : my 15yo daughter w severe anemia - #progesterone triggered severe #depression -&gt; now diagnosed #bipolar - #hormones http://t.co/rderotrvim\n",
      "   54 : needlework pu leather car seat cushion fit for elantra sonata sport 10 pieces - full read by… http://t.co/k2cpc6nde2\n",
      "   55 : the only chill pill i need is xanax\n",
      "   56 : @ljhamlin it should. i'm just going to swap the klonopin for a muscle relaxant the doc gave me for my back.\n",
      "   57 : took some codeine i'm in so much pain\n",
      "   58 : yasmin canada discount card panklav 250mg .. spironolactone teratogenic effects pain adverse… http://t.co/3q0mb5k9eh\n",
      "   63 : beauty tips news : http://t.co/rkowzru9rs #910 betadine solution wound care http://t.co/e9bshqyo5k\n",
      "   66 : percocet and muscle relaxers in a napkin\n",
      "   67 : ...all that yellin &amp; yappin, percocet and muscle relaxers in a napkin\n",
      "   69 : @austinmahone naproxen pill.i am still bleeding from my menstrual cycle.it is not as heavy as yesterday.however the menstrual cramps&amp;pains\n",
      "   70 : aye codeine what i'm sipping, gas what i'm inhaling.\n",
      "   71 : @francispinon_ just chill out man, i gotta do some hw pce 😚\n",
      "   72 : @teenytwotimes @mollyschreiber i take tramadol too. really helpful for moderate-severe pain. can't imagine living w/o it. no tummy probs.\n",
      "   73 : codeine, lucid dreams, bitch i bleed lean!\n",
      "   74 : my ears are ringing i need a xanax and it hurts my throat to swallow pills rn... i want to die\n",
      "   75 : popping valium for headaches is a bloody great idea hey. sahhhhhh lucid.\n",
      "   80 : u were supposed to pick me up from work and give me tramadol but now i'm off rideless &amp; in pain.. 👎\n",
      "   81 : i need a xanax after tonight's @gameofthrones. my anxiety levels in fear of jon snow dying were sky high. i was so scared. it was pathetic\n",
      "   82 : the thirst is real 🚗💨🔰💯 #subielife #dyingtotune #lp @ doral, fl https://t.co/9nxhvmoiny\n",
      "   84 : i enjoy the the feeling of codeine pills 😌 i be so chill 😎✌️\n",
      "   86 : comparative risk of gastrointestinal bleeding with dabigatran, rivaroxaban, and warfarin. abraham ns, et al. bmj 2015 http://t.co/p34xmnwg8d\n",
      "   87 : for someone with extreme social anxiety, i sure sang torn pretty enthusiastically in fortinos yesterday. thanks @xanax\n",
      "   88 : lot of 11 low grade topps red sox cards 1959 1960 1961 1975 yaz runnels http://t.co/7w4e6w7ath http://t.co/sttj4o6p2g\n",
      "   89 : but xanax, valium, attavan\n",
      "makes it all ok\n",
      "it's so much more\n",
      "than a cry for attention\n",
      "no loving hands can sooth this ache\n",
      "so much more than\n",
      "   90 : @iacoguy @interneteh @rex4711 i had iv dilaudid in er once. only drug that *ever* blocked pain being caused by my pinched nerve. wowser.\n",
      "   91 : codeine on chill😭💀 http://t.co/t3m3crikst\n",
      "   93 : my pharmacist tried warning me that my prescription may cause drowsiness, i was like \"isn't that the point of xanax\"?\n",
      "   96 : codeine, ibuprofen &amp; chlorhexidine. none of them have helped my pain go away ! 😭😭😭\n",
      "   98 : the vomiting has stopped with the assistance of the zofran just nausea now.  he pain level is still between a 8... http://t.co/6rsxshntzw\n",
      "   100 : codeine\n",
      "lucid dreams \n",
      "bitch i bleed lean\n",
      "   101 : does acetaminophen reduce more than just your pain? http://t.co/sznrzkcjqt\n",
      "   102 : i can be your morphine. i can heal your pain but i can as well take your breath away.\n",
      "   104 : @tigerlilyysays @theonlybacchus zoloft made my kid crazy enough to bite a classmate on his back. prozac is a miracle for depression, tho.\n",
      "   106 : cedmundwright exposes low-t republicans #cialis #viagra #teaparty http://t.co/y8hnrr4dyl @conserv_report @swiftread\n",
      "   108 : everyone needs a xanax chill out\n",
      "   111 : codeine is the most disgusting thing on the face of this planet...fuck this cough how do some of y'all sip this shit\n",
      "   113 : i'm someone who could really benefit from a xanax prescription but they're so strict with it now bc of its abuse. pls take my anxiety away.\n",
      "   114 : use of inderal for anxiety: \n",
      "\n",
      " http://t.co/on8jte2fwf\n",
      "   115 : my mom said adderall was bad for me to take, but just offered me pain pills for a headache...?\n",
      "   117 : cakes as the amphetamine sulfate, stomach phratry, but the shrunk league: pfvhz http://t.co/zy4clibckx\n",
      "   118 : tramadol and hydrocodone running low bruh . 😩\n",
      "   119 : seafood scented vagina is indicative of bacterial vaginosis or trichomoniasis. get some flagyl  stat.\n",
      "   120 : osphena (ospemifene) � new drug approved for common menopause symptom http://t.co/qtekagaytp #femsupport #fit #yoga #diet #health\n",
      "   121 : took my xanax and applied my nausea patch. it's getting so real. 😍💉🔪\n",
      "   123 : this nigga isaac has extreme insomnia ima get him some doxepin or something he needs to sleep on schedule\n",
      "   124 : wash the molly down with champagne..  wash the xanax down with syrup yea.. hope it take away all this damn pain\n",
      "   126 : someone needs to drag me out of bed and force adderall down my throat\n",
      "   127 : the flu, strep throat, ear &amp; sinus infection &amp; kidney infection.3 shots in my ass, and codeine. i feel pretty good👋🏾 http://t.co/p8dxn7mx43\n",
      "   131 : @briannnaa22 i am chill take some valium it's a stress reliever 😂\n",
      "   133 : the chills you get when listening to music are a result of the brain releasing dopamine in anticipation of the peak moment of a song\n",
      "   134 : something's on xanax just don't seem to blackout\n",
      "   136 : the great depression ended when fdr presented america with the great prozac.\n",
      "   137 : @b3lm1r @melisa_imamovic lmao they shouldve given you acetaminophen or something to reduce your fever before all your organs shut down😂\n",
      "   138 : yasmin mogahed once said that it isn't the struggle that is hurting us, but the need we are struggling for.\n",
      "   141 : @keelyeshaye same 😑 but i'm on prednisone, azithromycin (antibiotic), albuterol, cough syrup, and cough drops every day 😅\n",
      "   144 : @seastarbatita am no lidoderming, going to take perocset and reglan, and assuming i will sleep, will wake in 4 hrs to scream in pain &amp; puke\n",
      "   145 : your hospital bill $210.00 morphine to kill the pain $50.00 watching you cry like a little bitch priceless\n",
      "   146 : codeine wat i'm sipping🍼🍇 gas i'm inhaling😤\n",
      "   148 : as i was typing, my phone just changed 'neosporin' to 'mesopotamia.' that's an all new low for you, autocorrect. #fail\n",
      "   151 : the food that makes you fat is processed food, high in calories, low in nutrients &amp; spikes your insulin, making you crave more food. #fit\n",
      "   154 : @seattlesckoyote they did a urine test and it came up positive for a uti and gave me cipro for it\n",
      "   155 : i just opened my laptop to a youtube tab of \"suga's funny moments\" &amp; i dont remember doing this last night hnstly ambien needs to chill\n",
      "   158 : dear game of thrones. you're beginning to pass the books and it's giving me anxiety. xanax should not not be necessary for proper viewing.\n",
      "   160 : shoutout to two pain pills and morphine 💉\n",
      "\n",
      "\n",
      "***** Cluster: 4 *****\n",
      "   8 : #healthy #nutrition phentermine diet pills for weight loss http://t.co/pxsjttcdvm\n",
      "   11 : #fitbit #exercise phentermine diet pills for weight loss http://t.co/lewmcinmc1 #edsheeran #fatloss\n",
      "   24 : was planning to enter three scripts in the @nywift fellowship but got sick. now will attempt one or two through codeine haze.\n",
      "   26 : ive never experienced more anxiety than watching san andreas i need a fuking xanax\n",
      "   35 : my name anagrams to dialyte l which is also the name of my new weight loss product which you can try now for free no obligation!b!\n",
      "   43 : ok so when u take adderall it suppresses your appetite, so instead of spending $30 on food per day, you'll only spend $10\n",
      "   48 : @93ftnivll yasmin where'd ur chill go\n",
      "   53 : sick 4 weeks finally went 2 medspring &amp; evidently = sinus infection, acute bronchitis &amp; fluid in ears. now on cipro &amp; stomach is mess. aiy!\n",
      "   59 : more bleeding with bridge therapy during warfarin interruption http://t.co/iwoo9kycsg\n",
      "   61 : am bleeding codeine\n",
      "   62 : a male pharmacist trying to convince me id be better off with ibuprofen + paracetamol than ibuprofen + codeine for period pain\n",
      "   64 : soma, from the amnesia the dark descent devs, hits pc and in … : http://t.co/gvk5xtdiaj .,,, http://t.co/sqgl557shh\n",
      "   65 : sigh. someone give me more codeine. i feel the pain is talking more than my brain.\n",
      "   76 : i need some codeine for real. i done had this dry cough for about 3 weeks now.\n",
      "   77 : gonna overdose on codeine to sleep the pain away...\n",
      "   83 : when the timeline starts idolizing kim k i just get anxiety i need xanax\n",
      "   85 : sick pic of our bass player wes at soma san diego photo credit: ethan wick (sdmetal) \n",
      "\n",
      "more at:... http://t.co/mrzczkrq9q\n",
      "   94 : yea i sweat like an animal bc i'm allergic to insulin &amp; my body rejects it but i need insulin to live so that's my life 💁🏻\n",
      "   97 : yaz &amp; her many avi's making me sick 😂😂😂😂😂 i can't with her\n",
      "   99 : intention greater to avoid codeine cough syrup bread takes self-conquest...dmusn\n",
      "   103 : @kcco27 @proftimnoakes metformin made me very sick. it's better to control your insulin resistance through learning about food. lets connect\n",
      "   112 : why all girls hate each other like damn can we take a xanax together and chill\n",
      "   116 : amnesia devs announce release date for next title, soma - http://t.co/tmptczmcre | #frictionalgames #survivalhorror http://t.co/xlt43ukuiv\n",
      "   122 : codeine what im sipping gas what im inhaling\n",
      "   125 : they and most fruits are low gi, so no huge spike in insulin. https://t.co/1ucfdot5xx\n",
      "   129 : \"preferred pain giver?\" skyla would enjoy it more, and i would enjoy it more.\n",
      "   130 : cid, shrooms, oxycodone, oxycotin, ritalin, adderall, vicodin (pills all snorted, never popped) cough syrup, cocaine https://t.co/f950zxihsh\n",
      "   139 : bleeding, venous thromboembolism, and mortality risks during warfarin interruption for invasive procedures #warfarin \n",
      "http://t.co/wrlfcbusfa\n",
      "   147 : @theinfamouswall well heroin was used as a pain killer like morphine back then\n",
      "   149 : yaz makes me sick\n",
      "   153 : colistin alone or combined with sulbactam or carbapenem against a. baumannii in ventilator-associated pneumonia. -… http://t.co/dwbed26nxp\n",
      "   156 : i cannot. stop. coughing. hydrocodone syrup, otc cough syrup, albuterol, benadryl, hot shower...this is fucking ridiculous &amp; i'm miserable.\n",
      "   157 : because michael jackson died from an od on propofol, or \"milk of amnesia,\" a powerful anesthetic that's also used as a horse tranquilizer.\n",
      "   161 : is tigecycline a suitable option for clostridium difficile infection? evidence from the literature. - pubmed… http://t.co/3oxlnhrtae #cdiff\n",
      "   162 : why do the doctors continue to give her anxiety pills or xanax? why.\n",
      "   164 : st george hosts the codeine cough syrup perturb sebkha ado joyride sprint race: chkzomic\n",
      "\n",
      "\n",
      "***** Cluster: 5 *****\n",
      "   3 : diabetes treatment drug, metformin, could help prevent blindness according #diabetesfree, #diabetes, #stopdiabetes http://t.co/au8xfme5jm\n",
      "   132 : codeine , lortab , cocaine oc's percocets mdma for the pain , xanax crystal meth heroine anything for the change\n",
      "   135 : #classifieds taking codeine and adderall: adderall lexapro  zoloft with adderall anxiety . mixi... http://t.co/fhv0szcync #ads #pakistan\n",
      "   163 : rob kardashian in rehab for alcohol, marijuana, codeine cough syrup, 100-pound weight gain: kris jenner denies [#video] feed...\n",
      "\n",
      "\n",
      "***** Cluster: 6 *****\n",
      "   52 : @luissarrr @deardezz usually in my job they prescribe penicillin if your not allergic along with pain killers and that usually helps.\n",
      "\n",
      "\n",
      "***** Cluster: 7 *****\n",
      "   60 : cuddling (or other 'love' acts) helps to heal physical wounds faster due to the release of oxytocin which is proven to reduce swelling.\n",
      "\n",
      "\n",
      "***** Cluster: 8 *****\n",
      "   21 : tbh i do like to drink because it helps my anxiety in a more social way unlike xanax wich just puts me further into the corner\n",
      "   23 : green tea for weight loss!!! - http://t.co/pxgywpyzup #diabetes #diabetic #diabetics #insulin\n",
      "   33 : this life without anxiety shit is great. i'm so much less anxious these days. thanks lyrica.\n",
      "   44 : music before surgery proves better than midazolam | healing music enterprises blog http://t.co/t0sndk5jhg #presurgery #anxiety #surgicalfear\n",
      "   68 : first run since the injury. hell yeah for cortisone shots but im hella out of shape, gta get back in it. #finalchapter\n",
      "   79 : no more coughing blood or vomiting. thank god. c'mon azithromycin! i plan to go to work tomorrow!\n",
      "   95 : plastering neosporin all over my face....i really need this cut to heal by tuesday and this swelling to go down.\n",
      "   128 : codeine what i'm sippin, gas what i'm inhaling. posto what you smelling !\n",
      "   142 : if you never stop build your muscle baby. leave some morphine at my door, cuz it will take a whole lot of medication. ;---;\n",
      "   159 : @jacabello_ lol i was high before the surgery even began because they gave me valium for my anxiety so i didn't even know how i got there\n",
      "\n",
      "\n",
      "***** Cluster: 9 *****\n",
      "   9 : @jacob_ladder @besafe71 try zyrtec, works the same w/o the drowsiness.\n"
     ]
    }
   ],
   "source": [
    "# Before Gensim\n",
    "clusterTweets(deduped_tweets, corpus, n_clusters=10)"
   ]
  },
  {
   "cell_type": "markdown",
   "metadata": {},
   "source": [
    "#Apply Topic Modeling, then Cluster"
   ]
  },
  {
   "cell_type": "code",
   "execution_count": 25,
   "metadata": {
    "collapsed": false
   },
   "outputs": [],
   "source": [
    "transformedCorpus, model = buildModel(corpus, modelType='lsi')\n",
    "# newCorpus, model = buildModel(corpus, modelType='lda')\n",
    "# newCorpus, model = buildModel(corpus, modelType='hdp')"
   ]
  },
  {
   "cell_type": "code",
   "execution_count": 26,
   "metadata": {
    "collapsed": false,
    "scrolled": true
   },
   "outputs": [
    {
     "name": "stdout",
     "output_type": "stream",
     "text": [
      "\n",
      "\n",
      "***** Cluster: 0 *****\n",
      "   1 : @billygunn19 they put me on it to counteract the decrease in hunger from the wellbutrin. thankfully i could use a few pounds :)\n",
      "   2 : listen to lecture on overcoming sadness and depression - yasmin mogahed by yasmin.mogahed #np on #soundcloud\n",
      "http://t.co/kfehqx4yw1\n",
      "   23 : green tea for weight loss!!! - http://t.co/pxgywpyzup #diabetes #diabetic #diabetics #insulin\n",
      "   26 : ive never experienced more anxiety than watching san andreas i need a fuking xanax\n",
      "   34 : #stanakatic phentermine diet pills for weight loss http://t.co/apk1t46zof #hollywood #celeb\n",
      "   42 : \"would you rather have adult acne (ew!) or bloody diarrhea  (yay!)?\" a summary of the commercial i just heard for onexton.\n",
      "   74 : my ears are ringing i need a xanax and it hurts my throat to swallow pills rn... i want to die\n",
      "   95 : plastering neosporin all over my face....i really need this cut to heal by tuesday and this swelling to go down.\n",
      "   120 : osphena (ospemifene) � new drug approved for common menopause symptom http://t.co/qtekagaytp #femsupport #fit #yoga #diet #health\n",
      "   143 : @okuutheengineer shit...do you have neosporin or something to stop the sensitivity and bleeding? hard scabs will just chafe off again\n",
      "   148 : as i was typing, my phone just changed 'neosporin' to 'mesopotamia.' that's an all new low for you, autocorrect. #fail\n",
      "\n",
      "\n",
      "***** Cluster: 1 *****\n",
      "   3 : diabetes treatment drug, metformin, could help prevent blindness according #diabetesfree, #diabetes, #stopdiabetes http://t.co/au8xfme5jm\n",
      "   7 : quick question! which gains muscle faster? insulin or carbohydrates?😏 @ me✌️\n",
      "   9 : @jacob_ladder @besafe71 try zyrtec, works the same w/o the drowsiness.\n",
      "   19 : can't go joy riding cause ain't no gas in the sonata.\n",
      "   132 : codeine , lortab , cocaine oc's percocets mdma for the pain , xanax crystal meth heroine anything for the change\n",
      "   135 : #classifieds taking codeine and adderall: adderall lexapro  zoloft with adderall anxiety . mixi... http://t.co/fhv0szcync #ads #pakistan\n",
      "   150 : once a person gives me the warm, fuzzy feeling in my stomach that xanax gives me, i will marry that person.\n",
      "   163 : rob kardashian in rehab for alcohol, marijuana, codeine cough syrup, 100-pound weight gain: kris jenner denies [#video] feed...\n",
      "\n",
      "\n",
      "***** Cluster: 2 *****\n",
      "   4 : #ovariancyst risk factors: infertility treatment, tamoxifen, pregnancy, hypothyroidism, maternal gonadotropins, cigarettes, tubal ligation\n",
      "   22 : #elliegoulding phentermine diet pills for weight loss http://t.co/vbypcz2luq ellie goulding\n",
      "   24 : was planning to enter three scripts in the @nywift fellowship but got sick. now will attempt one or two through codeine haze.\n",
      "   31 : dear percocet,\n",
      "you were supposed to make my pain go away, not make me sick. fuck. you. 😖\n",
      "no love,\n",
      "lori\n",
      "   46 : weight loss tips - great recipe tips: your weight loss tips : avoid carbs and insulin. because consuming carbo... http://t.co/daant0ggnr\n",
      "   51 : my 15yo daughter w severe anemia - #progesterone triggered severe #depression -&gt; now diagnosed #bipolar - #hormones http://t.co/rderotrvim\n",
      "   58 : yasmin canada discount card panklav 250mg .. spironolactone teratogenic effects pain adverse… http://t.co/3q0mb5k9eh\n",
      "   59 : more bleeding with bridge therapy during warfarin interruption http://t.co/iwoo9kycsg\n",
      "   64 : soma, from the amnesia the dark descent devs, hits pc and in … : http://t.co/gvk5xtdiaj .,,, http://t.co/sqgl557shh\n",
      "   65 : sigh. someone give me more codeine. i feel the pain is talking more than my brain.\n",
      "   86 : comparative risk of gastrointestinal bleeding with dabigatran, rivaroxaban, and warfarin. abraham ns, et al. bmj 2015 http://t.co/p34xmnwg8d\n",
      "   92 : @ilovaussiesheps @interneteh @rex4711 it's oxy and tylenol. that and morphine work for my pain. nothing else. but i only take aspirin daily.\n",
      "   97 : yaz &amp; her many avi's making me sick 😂😂😂😂😂 i can't with her\n",
      "   125 : they and most fruits are low gi, so no huge spike in insulin. https://t.co/1ucfdot5xx\n",
      "   141 : @keelyeshaye same 😑 but i'm on prednisone, azithromycin (antibiotic), albuterol, cough syrup, and cough drops every day 😅\n",
      "   155 : i just opened my laptop to a youtube tab of \"suga's funny moments\" &amp; i dont remember doing this last night hnstly ambien needs to chill\n",
      "   156 : i cannot. stop. coughing. hydrocodone syrup, otc cough syrup, albuterol, benadryl, hot shower...this is fucking ridiculous &amp; i'm miserable.\n",
      "   162 : why do the doctors continue to give her anxiety pills or xanax? why.\n",
      "   164 : st george hosts the codeine cough syrup perturb sebkha ado joyride sprint race: chkzomic\n",
      "\n",
      "\n",
      "***** Cluster: 3 *****\n",
      "   0 : one week off the vasopressin; our son's anxiety is back, hitting himself, and the repetitive behavior-all back #asd http://t.co/movz6tp7kw\n",
      "   16 : promethazine is nausea medicine chill ur not that hard\n",
      "   32 : \"sometimes it feels like we're all living in a prozac nation. the united states of depression.\"\n",
      "-prozac nation\n",
      "   33 : this life without anxiety shit is great. i'm so much less anxious these days. thanks lyrica.\n",
      "   43 : ok so when u take adderall it suppresses your appetite, so instead of spending $30 on food per day, you'll only spend $10\n",
      "   69 : @austinmahone naproxen pill.i am still bleeding from my menstrual cycle.it is not as heavy as yesterday.however the menstrual cramps&amp;pains\n",
      "   70 : aye codeine what i'm sipping, gas what i'm inhaling.\n",
      "   82 : the thirst is real 🚗💨🔰💯 #subielife #dyingtotune #lp @ doral, fl https://t.co/9nxhvmoiny\n",
      "   84 : i enjoy the the feeling of codeine pills 😌 i be so chill 😎✌️\n",
      "   90 : @iacoguy @interneteh @rex4711 i had iv dilaudid in er once. only drug that *ever* blocked pain being caused by my pinched nerve. wowser.\n",
      "   101 : does acetaminophen reduce more than just your pain? http://t.co/sznrzkcjqt\n",
      "   104 : @tigerlilyysays @theonlybacchus zoloft made my kid crazy enough to bite a classmate on his back. prozac is a miracle for depression, tho.\n",
      "   110 : the body only needs 60 units of insulin and 30 minutes after the injection to go into shock and cause sugars to become dangerously low\n",
      "   112 : why all girls hate each other like damn can we take a xanax together and chill\n",
      "   115 : my mom said adderall was bad for me to take, but just offered me pain pills for a headache...?\n",
      "   121 : took my xanax and applied my nausea patch. it's getting so real. 😍💉🔪\n",
      "   144 : @seastarbatita am no lidoderming, going to take perocset and reglan, and assuming i will sleep, will wake in 4 hrs to scream in pain &amp; puke\n",
      "\n",
      "\n",
      "***** Cluster: 4 *****\n",
      "   8 : #healthy #nutrition phentermine diet pills for weight loss http://t.co/pxsjttcdvm\n",
      "   10 : codeine wat am sippin gas wat am inhaling rollin upp dutches damn ma mama yelling chill out y u trippin fukin upp ma section!!!\n",
      "   11 : #fitbit #exercise phentermine diet pills for weight loss http://t.co/lewmcinmc1 #edsheeran #fatloss\n",
      "   14 : free prilosec sample for heartburn (new link) http://t.co/fr70xvvxp2) http://t.co/9wn1skegde\n",
      "   15 : fit 2006-2010 06-09 10 hyundai sonata wind deflector window visor sun guard 4pc http://t.co/ncuhhmgggj http://t.co/jluvx8d2gx\n",
      "   20 : is it #codeine is it #redwine? is it a bit of both? stay tuned until the next episode! #chill… https://t.co/7l519pdvso\n",
      "   21 : tbh i do like to drink because it helps my anxiety in a more social way unlike xanax wich just puts me further into the corner\n",
      "   28 : check this deal : http://t.co/scgrmjeiem #8223 5 lb. l glycine powder pure energy muscle brain health pharmaceuti… http://t.co/zfows0asuk\n",
      "   36 : the chills you sometimes get when listening to music is actually caused by the release of dopamine in your body.\n",
      "   37 : more xanax and maalox, stat! :-) #gutfeld rt @greggutfeld: it's 45 minutes away and the butterflies in my stomach have diarrhea. #gutfeld\n",
      "   39 : phentermine average weight loss per week ebook: phentermine average weight loss per week - the 3 week diet - o... http://t.co/libhygqukg\n",
      "   48 : @93ftnivll yasmin where'd ur chill go\n",
      "   53 : sick 4 weeks finally went 2 medspring &amp; evidently = sinus infection, acute bronchitis &amp; fluid in ears. now on cipro &amp; stomach is mess. aiy!\n",
      "   54 : needlework pu leather car seat cushion fit for elantra sonata sport 10 pieces - full read by… http://t.co/k2cpc6nde2\n",
      "   57 : took some codeine i'm in so much pain\n",
      "   61 : am bleeding codeine\n",
      "   66 : percocet and muscle relaxers in a napkin\n",
      "   67 : ...all that yellin &amp; yappin, percocet and muscle relaxers in a napkin\n",
      "   68 : first run since the injury. hell yeah for cortisone shots but im hella out of shape, gta get back in it. #finalchapter\n",
      "   71 : @francispinon_ just chill out man, i gotta do some hw pce 😚\n",
      "   72 : @teenytwotimes @mollyschreiber i take tramadol too. really helpful for moderate-severe pain. can't imagine living w/o it. no tummy probs.\n",
      "   73 : codeine, lucid dreams, bitch i bleed lean!\n",
      "   75 : popping valium for headaches is a bloody great idea hey. sahhhhhh lucid.\n",
      "   76 : i need some codeine for real. i done had this dry cough for about 3 weeks now.\n",
      "   77 : gonna overdose on codeine to sleep the pain away...\n",
      "   78 : yeast infection diflucan http://t.co/ejaatowpqc\n",
      "   85 : sick pic of our bass player wes at soma san diego photo credit: ethan wick (sdmetal) \n",
      "\n",
      "more at:... http://t.co/mrzczkrq9q\n",
      "   87 : for someone with extreme social anxiety, i sure sang torn pretty enthusiastically in fortinos yesterday. thanks @xanax\n",
      "   88 : lot of 11 low grade topps red sox cards 1959 1960 1961 1975 yaz runnels http://t.co/7w4e6w7ath http://t.co/sttj4o6p2g\n",
      "   89 : but xanax, valium, attavan\n",
      "makes it all ok\n",
      "it's so much more\n",
      "than a cry for attention\n",
      "no loving hands can sooth this ache\n",
      "so much more than\n",
      "   91 : codeine on chill😭💀 http://t.co/t3m3crikst\n",
      "   94 : yea i sweat like an animal bc i'm allergic to insulin &amp; my body rejects it but i need insulin to live so that's my life 💁🏻\n",
      "   99 : intention greater to avoid codeine cough syrup bread takes self-conquest...dmusn\n",
      "   100 : codeine\n",
      "lucid dreams \n",
      "bitch i bleed lean\n",
      "   102 : i can be your morphine. i can heal your pain but i can as well take your breath away.\n",
      "   103 : @kcco27 @proftimnoakes metformin made me very sick. it's better to control your insulin resistance through learning about food. lets connect\n",
      "   105 : @llc00ljas_23 will give you promethazine for the cough i hope you get better !\n",
      "   106 : cedmundwright exposes low-t republicans #cialis #viagra #teaparty http://t.co/y8hnrr4dyl @conserv_report @swiftread\n",
      "   107 : @homurasakibara soma said it fit him ....... im....\n",
      "   108 : everyone needs a xanax chill out\n",
      "   109 : @aleynamorehuman @chinupclub nuvigil helps my fatigue. but i do weird things like bounce my leg or rub my tongue on my teeth 'til it's raw\n",
      "   111 : codeine is the most disgusting thing on the face of this planet...fuck this cough how do some of y'all sip this shit\n",
      "   116 : amnesia devs announce release date for next title, soma - http://t.co/tmptczmcre | #frictionalgames #survivalhorror http://t.co/xlt43ukuiv\n",
      "   118 : tramadol and hydrocodone running low bruh . 😩\n",
      "   124 : wash the molly down with champagne..  wash the xanax down with syrup yea.. hope it take away all this damn pain\n",
      "   127 : the flu, strep throat, ear &amp; sinus infection &amp; kidney infection.3 shots in my ass, and codeine. i feel pretty good👋🏾 http://t.co/p8dxn7mx43\n",
      "   128 : codeine what i'm sippin, gas what i'm inhaling. posto what you smelling !\n",
      "   129 : \"preferred pain giver?\" skyla would enjoy it more, and i would enjoy it more.\n",
      "   130 : cid, shrooms, oxycodone, oxycotin, ritalin, adderall, vicodin (pills all snorted, never popped) cough syrup, cocaine https://t.co/f950zxihsh\n",
      "   133 : the chills you get when listening to music are a result of the brain releasing dopamine in anticipation of the peak moment of a song\n",
      "   134 : something's on xanax just don't seem to blackout\n",
      "   136 : the great depression ended when fdr presented america with the great prozac.\n",
      "   137 : @b3lm1r @melisa_imamovic lmao they shouldve given you acetaminophen or something to reduce your fever before all your organs shut down😂\n",
      "   140 : @mikayla_workman when you on morphine and let someone pain ur face like it's catching fire up in here\n",
      "   142 : if you never stop build your muscle baby. leave some morphine at my door, cuz it will take a whole lot of medication. ;---;\n",
      "   145 : your hospital bill $210.00 morphine to kill the pain $50.00 watching you cry like a little bitch priceless\n",
      "   146 : codeine wat i'm sipping🍼🍇 gas i'm inhaling😤\n",
      "   147 : @theinfamouswall well heroin was used as a pain killer like morphine back then\n",
      "   149 : yaz makes me sick\n",
      "   151 : the food that makes you fat is processed food, high in calories, low in nutrients &amp; spikes your insulin, making you crave more food. #fit\n",
      "   152 : when i finally had unbearable pain from ibs i popped one. nigga 30min later, i floatin, pure bliss, euphoric and laxed like a mf #oxycontin\n",
      "   153 : colistin alone or combined with sulbactam or carbapenem against a. baumannii in ventilator-associated pneumonia. -… http://t.co/dwbed26nxp\n",
      "   154 : @seattlesckoyote they did a urine test and it came up positive for a uti and gave me cipro for it\n",
      "   158 : dear game of thrones. you're beginning to pass the books and it's giving me anxiety. xanax should not not be necessary for proper viewing.\n",
      "   160 : shoutout to two pain pills and morphine 💉\n",
      "   161 : is tigecycline a suitable option for clostridium difficile infection? evidence from the literature. - pubmed… http://t.co/3oxlnhrtae #cdiff\n",
      "\n",
      "\n",
      "***** Cluster: 5 *****\n",
      "   5 : re: vaccine treatments for brain tumours: dexamethasone remains critical to control edema, but does this inhibit immune therapy? #asco15\n",
      "   13 : #jeremylin #nba phentermine diet pills for weight loss http://t.co/ke7ch258sv #health #workout\n",
      "   17 : @yungtaxi @wolfiehan yasmin chill u hoe :/\n",
      "   55 : the only chill pill i need is xanax\n",
      "   63 : beauty tips news : http://t.co/rkowzru9rs #910 betadine solution wound care http://t.co/e9bshqyo5k\n",
      "   159 : @jacabello_ lol i was high before the surgery even began because they gave me valium for my anxiety so i didn't even know how i got there\n",
      "\n",
      "\n",
      "***** Cluster: 6 *****\n",
      "   27 : codeine crazy my smokin song bruh. too chill &amp; too real.\n",
      "   30 : the “sick care” system strikes again with ivokana and type 2 diabetes - http://t.co/hg8h6eoink #diabetes #diabetic #diabetics #insulin\n",
      "   41 : cuddling with loved ones releases oxytocin, a hormone which reduces stress and prevents nausea and headaches.\n",
      "   44 : music before surgery proves better than midazolam | healing music enterprises blog http://t.co/t0sndk5jhg #presurgery #anxiety #surgicalfear\n",
      "   50 : @glittermepink22 my physical ailments are causing me anxiety... hence the lorazepam... lol\n",
      "   60 : cuddling (or other 'love' acts) helps to heal physical wounds faster due to the release of oxytocin which is proven to reduce swelling.\n",
      "   79 : no more coughing blood or vomiting. thank god. c'mon azithromycin! i plan to go to work tomorrow!\n",
      "   80 : u were supposed to pick me up from work and give me tramadol but now i'm off rideless &amp; in pain.. 👎\n",
      "   93 : my pharmacist tried warning me that my prescription may cause drowsiness, i was like \"isn't that the point of xanax\"?\n",
      "   98 : the vomiting has stopped with the assistance of the zofran just nausea now.  he pain level is still between a 8... http://t.co/6rsxshntzw\n",
      "   123 : this nigga isaac has extreme insomnia ima get him some doxepin or something he needs to sleep on schedule\n",
      "   126 : someone needs to drag me out of bed and force adderall down my throat\n",
      "\n",
      "\n",
      "***** Cluster: 7 *****\n",
      "   29 : heard from someone else who recently had their dosage of sertraline increased, and they reported the same side-effects (anxiety/lethargy).\n",
      "   38 : sippin on codeine it ease my pain\n",
      "   52 : @luissarrr @deardezz usually in my job they prescribe penicillin if your not allergic along with pain killers and that usually helps.\n",
      "   113 : i'm someone who could really benefit from a xanax prescription but they're so strict with it now bc of its abuse. pls take my anxiety away.\n",
      "\n",
      "\n",
      "***** Cluster: 8 *****\n",
      "   6 : tramadol prescription pain medication spike emergency room visits http://t.co/cqbpznajmr\n",
      "   12 : #solution #fitness phentermine diet pills for weight loss http://t.co/yjb2s58o6e #rays #sports\n",
      "   35 : my name anagrams to dialyte l which is also the name of my new weight loss product which you can try now for free no obligation!b!\n",
      "   56 : @ljhamlin it should. i'm just going to swap the klonopin for a muscle relaxant the doc gave me for my back.\n",
      "   62 : a male pharmacist trying to convince me id be better off with ibuprofen + paracetamol than ibuprofen + codeine for period pain\n",
      "   83 : when the timeline starts idolizing kim k i just get anxiety i need xanax\n",
      "   114 : use of inderal for anxiety: \n",
      "\n",
      " http://t.co/on8jte2fwf\n",
      "   122 : codeine what im sipping gas what im inhaling\n",
      "   139 : bleeding, venous thromboembolism, and mortality risks during warfarin interruption for invasive procedures #warfarin \n",
      "http://t.co/wrlfcbusfa\n",
      "   157 : because michael jackson died from an od on propofol, or \"milk of amnesia,\" a powerful anesthetic that's also used as a horse tranquilizer.\n",
      "\n",
      "\n",
      "***** Cluster: 9 *****\n",
      "   18 : damfuggin abilify commercial... smh glad i got my depression under control. just sayin'. lol! but for real #mentalhealth is serious\n",
      "   25 : soma, sci-fi horror game from amnesia devs, gets trailer and sept ... http://t.co/pscdeps3nr\n",
      "   40 : is zithromax good for yeast infection http://t.co/k1ekga5aov\n",
      "   45 : @currageous it gives me so much anxiety. i need a veep-sized xanax\n",
      "   47 : @nursschoolprob fioricet, tylenol, advil, coffee like a maniac, nothing helped. oh and the nausea was the best! i think i lost like 5 lbs.\n",
      "   49 : @abbiehibsch if ur that scared take a valium and chill man.\n",
      "   81 : i need a xanax after tonight's @gameofthrones. my anxiety levels in fear of jon snow dying were sky high. i was so scared. it was pathetic\n",
      "   96 : codeine, ibuprofen &amp; chlorhexidine. none of them have helped my pain go away ! 😭😭😭\n",
      "   117 : cakes as the amphetamine sulfate, stomach phratry, but the shrunk league: pfvhz http://t.co/zy4clibckx\n",
      "   119 : seafood scented vagina is indicative of bacterial vaginosis or trichomoniasis. get some flagyl  stat.\n",
      "   131 : @briannnaa22 i am chill take some valium it's a stress reliever 😂\n",
      "   138 : yasmin mogahed once said that it isn't the struggle that is hurting us, but the need we are struggling for.\n"
     ]
    }
   ],
   "source": [
    "clusterTweets(deduped_tweets, transformedCorpus, n_clusters=10)"
   ]
  },
  {
   "cell_type": "markdown",
   "metadata": {},
   "source": [
    "#Look at presence of symptoms within filtered tweets"
   ]
  },
  {
   "cell_type": "code",
   "execution_count": 27,
   "metadata": {
    "collapsed": false,
    "scrolled": true
   },
   "outputs": [
    {
     "name": "stdout",
     "output_type": "stream",
     "text": [
      "[(u'pain', 39),\n",
      " (u'sick', 23),\n",
      " (u'anxiety', 17),\n",
      " (u'insomnia', 8),\n",
      " (u'chill', 7),\n",
      " (u'throat', 6),\n",
      " (u'low', 6),\n",
      " (u'muscle', 6),\n",
      " (u'stomach', 5),\n",
      " (u'bleeding', 4),\n",
      " (u'depression', 4),\n",
      " (u'cough', 4),\n",
      " (u'bloody', 3),\n",
      " (u'sweating', 3),\n",
      " (u'painful', 3),\n",
      " (u'infection', 3),\n",
      " (u'thirst', 2),\n",
      " (u'fit', 2),\n",
      " (u'amnesia', 2),\n",
      " (u'itching', 2),\n",
      " (u'coughing', 2),\n",
      " (u'nausea', 2),\n",
      " (u'edema', 1),\n",
      " (u'swelling', 1),\n",
      " (u'dizzy', 1),\n",
      " (u'sciatica', 1),\n",
      " (u'gas', 1),\n",
      " (u'wheezing', 1),\n",
      " (u'diarrhea', 1),\n",
      " (u'rash', 1),\n",
      " (u'vagina', 1),\n",
      " (u'injury', 1),\n",
      " (u'hurting', 1),\n",
      " (u'fever', 1),\n",
      " (u'itch', 1),\n",
      " (u'vomiting', 1),\n",
      " (u'sore', 1),\n",
      " (u'fatigue', 1),\n",
      " (u'tuberculosis', 1),\n",
      " (u'blindness', 1),\n",
      " (u'bleed', 1),\n",
      " (u'sweat', 1),\n",
      " (u'vomit', 1)]\n"
     ]
    }
   ],
   "source": [
    "#countSymptoms(combined_symptoms)\n",
    "countKeywords(combined_symptoms, parsedText)"
   ]
  },
  {
   "cell_type": "markdown",
   "metadata": {},
   "source": [
    "#Look at presence of RX Names within filtered tweets"
   ]
  },
  {
   "cell_type": "code",
   "execution_count": 28,
   "metadata": {
    "collapsed": false
   },
   "outputs": [
    {
     "name": "stdout",
     "output_type": "stream",
     "text": [
      "Total Unique Drug Name Prefixes: 3190 in file rx_drugs.p\n"
     ]
    }
   ],
   "source": [
    "idx_rx_drugs = createDrugLookupTable('rx_drugs.p')"
   ]
  },
  {
   "cell_type": "code",
   "execution_count": 29,
   "metadata": {
    "collapsed": false
   },
   "outputs": [
    {
     "name": "stdout",
     "output_type": "stream",
     "text": [
      "[(u'xanax', 19),\n",
      " (u'morphine', 16),\n",
      " (u'codeine', 11),\n",
      " (u'insulin', 7),\n",
      " (u'tramadol', 6),\n",
      " (u'adderall', 6),\n",
      " (u'soma', 5),\n",
      " (u'yaz', 4),\n",
      " (u'promethazine', 3),\n",
      " (u'naproxen', 3),\n",
      " (u'ambien', 3),\n",
      " (u'cetirizine', 2),\n",
      " (u'percocet', 2),\n",
      " (u'diclofenac', 2),\n",
      " (u'hydrocodone', 2),\n",
      " (u'nuvigil', 2),\n",
      " (u'paxil', 2),\n",
      " (u'penicillin', 2),\n",
      " (u'prometh', 2),\n",
      " (u'albuterol', 2),\n",
      " (u'prozac', 2),\n",
      " (u'doxepin', 2),\n",
      " (u'neosporin', 2),\n",
      " (u'metformin', 2),\n",
      " (u'zofran', 2),\n",
      " (u'cortisone', 2),\n",
      " (u'clonazepam', 2),\n",
      " (u'plan', 2),\n",
      " (u'zyrtec', 2),\n",
      " (u'yasmin', 2),\n",
      " (u'zoloft', 2),\n",
      " (u'ortho', 2),\n",
      " (u'norco', 2),\n",
      " (u'fentanyl', 1),\n",
      " (u'ventolin', 1),\n",
      " (u'selenium', 1),\n",
      " (u'nortriptyline', 1),\n",
      " (u'dopamine', 1),\n",
      " (u'cipro', 1),\n",
      " (u'doxycycline', 1),\n",
      " (u'sovaldi', 1),\n",
      " (u'phentermine', 1),\n",
      " (u'tranexamic', 1),\n",
      " (u'diazepam', 1),\n",
      " (u'pred', 1),\n",
      " (u'xarelto', 1),\n",
      " (u'chlorambucil', 1),\n",
      " (u'warfarin', 1),\n",
      " (u'adrenalin', 1),\n",
      " (u'viagra', 1),\n",
      " (u'ethambutol', 1),\n",
      " (u'acetaminophen', 1),\n",
      " (u'simvastatin', 1),\n",
      " (u'lithium', 1),\n",
      " (u'isotonic', 1),\n",
      " (u'eszopiclone', 1),\n",
      " (u'methamphetamine', 1),\n",
      " (u'extended', 1),\n",
      " (u'onexton', 1),\n",
      " (u'celebrex', 1),\n",
      " (u'vasopressin', 1),\n",
      " (u'ativan', 1),\n",
      " (u'mpi', 1),\n",
      " (u'belviq', 1),\n",
      " (u'opana', 1),\n",
      " (u'plaquenil', 1),\n",
      " (u'azithromycin', 1),\n",
      " (u'ansaid', 1),\n",
      " (u'abilify', 1),\n",
      " (u'carisoprodol', 1),\n",
      " (u'pyrazinamide', 1),\n",
      " (u'tham', 1),\n",
      " (u'cefotaxime', 1),\n",
      " (u'polyethylene', 1),\n",
      " (u'clotrimazole', 1),\n",
      " (u'seroquel', 1),\n",
      " (u'risperdal', 1),\n",
      " (u'sildenafil', 1),\n",
      " (u'doxy', 1),\n",
      " (u'lasix', 1),\n",
      " (u'cialis', 1),\n",
      " (u'isoniazid', 1),\n",
      " (u'lyrica', 1),\n",
      " (u'gabapentin', 1)]\n"
     ]
    }
   ],
   "source": [
    "countKeywords(idx_rx_drugs, parsedText)"
   ]
  },
  {
   "cell_type": "markdown",
   "metadata": {},
   "source": [
    "#Boneyard"
   ]
  },
  {
   "cell_type": "raw",
   "metadata": {},
   "source": [
    "lsi = models.LsiModel(corpus_tfidf, id2word=dictionary, num_topics=NUM_TOPICS) # initialize an LSI transformation\n",
    "corpus_lsi = lsi[corpus_tfidf] # create a double wrapper over the original corpus: bow->tfidf->fold-in-lsi"
   ]
  },
  {
   "cell_type": "raw",
   "metadata": {},
   "source": [
    "lsi.show_topics(formatted=False)"
   ]
  },
  {
   "cell_type": "raw",
   "metadata": {},
   "source": [
    "ldamodel = models.LdaModel(corpus, id2word=dictionary,\n",
    "                           num_topics=10,\n",
    "                           iterations=500, passes=20)"
   ]
  },
  {
   "cell_type": "raw",
   "metadata": {},
   "source": [
    "ldamodel.show_topics(formatted=False)"
   ]
  },
  {
   "cell_type": "raw",
   "metadata": {},
   "source": [
    "hdpmodel = models.HdpModel(corpus, id2word=dictionary)"
   ]
  },
  {
   "cell_type": "raw",
   "metadata": {},
   "source": [
    "hdpmodel.show_topics(topics=10, topn=5, formatted=False)"
   ]
  }
 ],
 "metadata": {
  "kernelspec": {
   "display_name": "Python 2",
   "language": "python",
   "name": "python2"
  },
  "language_info": {
   "codemirror_mode": {
    "name": "ipython",
    "version": 2
   },
   "file_extension": ".py",
   "mimetype": "text/x-python",
   "name": "python",
   "nbconvert_exporter": "python",
   "pygments_lexer": "ipython2",
   "version": "2.7.9"
  }
 },
 "nbformat": 4,
 "nbformat_minor": 0
}

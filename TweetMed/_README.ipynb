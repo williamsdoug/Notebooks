{
 "cells": [
  {
   "cell_type": "markdown",
   "metadata": {},
   "source": [
    "#Data Sources\n",
    "\n",
    "###Drugs\n",
    "- FDA Orange Book\n",
    " - Schema: http://www.fda.gov/Drugs/InformationOnDrugs/ucm129689.htm\n",
    " - download: http://www.fda.gov/downloads/Drugs/InformationOnDrugs/UCM163762.zip\n",
    "  - products.txt contains information on individual drugs\n",
    "- Daily Med: http://dailymed.nlm.nih.gov/dailymed/index.cfm\n",
    " - Includes entries by drug and manufacturer\n",
    " - Download: http://dailymed.nlm.nih.gov/dailymed/spl-resources.cfm\n",
    "  - Download:  Also All drug labels, All indexing files, all mapping files\n",
    " - API: http://dailymed.nlm.nih.gov/dailymed/spl-resources.cfm\n",
    "- MedlinePlus\n",
    " - Drugs: http://www.nlm.nih.gov/medlineplus/druginformation.html\n",
    "  - Drugs:  includes list by starting letter of all drugs\n",
    "  - Drugs: Individual entries include precautions and side effects\n",
    "  - Bulk download URLs: 7GB total, 30K files,  [part1](ftp://public.nlm.nih.gov/nlmdata/.dailymed/dm_spl_release_human_rx_part1.zip) , [part2](ftp://public.nlm.nih.gov/nlmdata/.dailymed/dm_spl_release_human_rx_part2.zip) ,\n",
    "  [part3](ftp://public.nlm.nih.gov/nlmdata/.dailymed/dm_spl_release_human_rx_part3.zip)\n",
    " - API: http://www.nlm.nih.gov/medlineplus/webservices.html\n",
    "  - Note:  Must limit use to 85 requests per minute\n",
    "- OpenFDA Datasets: https://open.fda.gov/data/\n",
    " - FAERS: [Adverse Event Reporting System](http://www.fda.gov/Drugs/GuidanceComplianceRegulatoryInformation/Surveillance/AdverseDrugEffects/ucm082193.htm)\n",
    " - SPL: [Structured Product Labeling](http://www.fda.gov/forindustry/datastandards/structuredproductlabeling/)\n",
    "- FDA National Library of Medicine:\n",
    " - API: http://www.nlm.nih.gov/api/\n",
    " - Databases: https://wwwcf2.nlm.nih.gov/nlm_eresources/eresources/search_database.cfm\n",
    " \n",
    "\n",
    "###Symptoms\n",
    "- Wikipedia\n",
    " - [List of medical symptoms](http://en.wikipedia.org/wiki/List_of_medical_symptoms)\n",
    " - [List of ICD-9 codes 780–799: symptoms, signs, and ill-defined conditions](http://en.wikipedia.org/wiki/List_of_ICD-9_codes_780–799:_symptoms,_signs,_and_ill-defined_conditions)\n",
    " - [ICD-10 Chapter XVIII: Symptoms, signs and abnormal clinical and laboratory findings](http://en.wikipedia.org/wiki/ICD-10_Chapter_XVIII:_Symptoms,_signs_and_abnormal_clinical_and_laboratory_findings#.28R00.E2.80.93R09.29_Circulatory_and_respiratory_systems)"
   ]
  },
  {
   "cell_type": "code",
   "execution_count": null,
   "metadata": {
    "collapsed": true
   },
   "outputs": [],
   "source": []
  },
  {
   "cell_type": "code",
   "execution_count": null,
   "metadata": {
    "collapsed": true
   },
   "outputs": [],
   "source": []
  }
 ],
 "metadata": {
  "kernelspec": {
   "display_name": "Python 2",
   "language": "python",
   "name": "python2"
  },
  "language_info": {
   "codemirror_mode": {
    "name": "ipython",
    "version": 2
   },
   "file_extension": ".py",
   "mimetype": "text/x-python",
   "name": "python",
   "nbconvert_exporter": "python",
   "pygments_lexer": "ipython2",
   "version": "2.7.9"
  }
 },
 "nbformat": 4,
 "nbformat_minor": 0
}

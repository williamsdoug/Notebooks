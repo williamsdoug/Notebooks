{
 "cells": [
  {
   "cell_type": "markdown",
   "metadata": {},
   "source": [
    "#FDA Orange Book Products - drug list\n",
    "\n",
    "###Scope\n",
    "- Download drug list\n",
    "\n",
    "###Data Sources:\n",
    "- FDA Orange Book\n",
    " - Schema: http://www.fda.gov/Drugs/InformationOnDrugs/ucm129689.htm\n",
    " - download: http://www.fda.gov/downloads/Drugs/InformationOnDrugs/UCM163762.zip\n",
    "  - products.txt contains information on individual drugs "
   ]
  },
  {
   "cell_type": "markdown",
   "metadata": {},
   "source": [
    "#Imports"
   ]
  },
  {
   "cell_type": "code",
   "execution_count": 1,
   "metadata": {
    "collapsed": false
   },
   "outputs": [],
   "source": [
    "from pprint import pprint\n",
    "import pickle"
   ]
  },
  {
   "cell_type": "markdown",
   "metadata": {},
   "source": [
    "#Constants"
   ]
  },
  {
   "cell_type": "code",
   "execution_count": 2,
   "metadata": {
    "collapsed": true
   },
   "outputs": [],
   "source": [
    "orangebookLocation = './EOBZIP_2015_04/products.txt'"
   ]
  },
  {
   "cell_type": "code",
   "execution_count": 3,
   "metadata": {
    "collapsed": false
   },
   "outputs": [],
   "source": [
    "OB_NEWLINE = '\\r\\n'\n",
    "OB_SEP = '~'"
   ]
  },
  {
   "cell_type": "markdown",
   "metadata": {},
   "source": [
    "#Code"
   ]
  },
  {
   "cell_type": "code",
   "execution_count": 4,
   "metadata": {
    "collapsed": true
   },
   "outputs": [],
   "source": [
    "def parseOrangebookProducts(file, drug_type='ALL', limit=-1):\n",
    "    \"\"\"Returns parsed contents of orangebook product list\n",
    "    Optionally filter on drug type:\n",
    "        ALL, RX, OTC, CURRENT (rx+otc), DISCN (discontinued)\n",
    "    \"\"\"\n",
    "    results = []\n",
    "    header = None\n",
    "    lineno = 0\n",
    "    with open(file) as f:\n",
    "        for line in f.read().split(OB_NEWLINE):\n",
    "            contents = line.split(OB_SEP)\n",
    "            if lineno == 0:\n",
    "                header = contents\n",
    "            else:\n",
    "                entry = {header[i]:val for i, val in enumerate(contents)}\n",
    "                for k in entry.keys():  #special case for complex entries, further parse entry\n",
    "                    if ';' in k:\n",
    "                        fields = k.split(';')\n",
    "                        values = entry[k].split(';')\n",
    "                        assert len(fields) == len(values)\n",
    "                        entry.update(dict(zip(fields, values)))\n",
    "                results.append(entry)\n",
    "            lineno += 1\n",
    "            if lineno == limit:\n",
    "                break\n",
    "    if drug_type.upper() == 'ALL':\n",
    "        return results\n",
    "    elif drug_type.upper() in ['RX', 'OTC', 'DISCN']:\n",
    "        dt_list = [drug_type.upper()]\n",
    "    elif drug_type.upper() == 'CURRENT':\n",
    "        dt_list = ['RX', 'OTC']\n",
    "    else:\n",
    "        raise Exception('parseOrangebookProducts: Unvalid drug type')\n",
    "    return [x for x in orangebook_products if x['Type'] in dt_list]"
   ]
  },
  {
   "cell_type": "code",
   "execution_count": 5,
   "metadata": {
    "collapsed": true
   },
   "outputs": [],
   "source": [
    "def getUniqueTradeNames(products):\n",
    "    \"\"\"Extracts unique druge trade names from list of products\"\"\"\n",
    "    names = {x['Trade_Name'].lower() for x in products}\n",
    "    return sorted(list(names))"
   ]
  },
  {
   "cell_type": "markdown",
   "metadata": {},
   "source": [
    "#FDA Orangebook Product list\n",
    "(previously downloaded)"
   ]
  },
  {
   "cell_type": "code",
   "execution_count": 6,
   "metadata": {
    "collapsed": false
   },
   "outputs": [
    {
     "name": "stdout",
     "output_type": "stream",
     "text": [
      "30457\n"
     ]
    }
   ],
   "source": [
    "orangebook_products = parseOrangebookProducts(orangebookLocation)\n",
    "print len(orangebook_products)"
   ]
  },
  {
   "cell_type": "code",
   "execution_count": 7,
   "metadata": {
    "collapsed": false
   },
   "outputs": [
    {
     "data": {
      "text/plain": [
       "{'Appl_No': '205613',\n",
       " 'Appl_Type': 'N',\n",
       " 'Applicant': 'VALEANT PHARMS INTL',\n",
       " 'Applicant_Full_Name': 'VALEANT PHARMACEUTICALS INTERNATIONAL',\n",
       " 'Approval_Date': 'Oct 7, 2014',\n",
       " 'DF': 'AEROSOL, FOAM',\n",
       " 'DF;Route': 'AEROSOL, FOAM;RECTAL',\n",
       " 'Ingredient': 'BUDESONIDE',\n",
       " 'Product_No': '001',\n",
       " 'RLD': 'Yes',\n",
       " 'Route': 'RECTAL',\n",
       " 'Strength': '2MG/ACTUATION',\n",
       " 'TE_Code': '',\n",
       " 'Trade_Name': 'UCERIS',\n",
       " 'Type': 'RX'}"
      ]
     },
     "execution_count": 7,
     "metadata": {},
     "output_type": "execute_result"
    }
   ],
   "source": [
    "orangebook_products[0]"
   ]
  },
  {
   "cell_type": "code",
   "execution_count": 8,
   "metadata": {
    "collapsed": false
   },
   "outputs": [
    {
     "data": {
      "text/plain": [
       "{'DISCN', 'OTC', 'RX'}"
      ]
     },
     "execution_count": 8,
     "metadata": {},
     "output_type": "execute_result"
    }
   ],
   "source": [
    "set([x['Type'] for x in orangebook_products])"
   ]
  },
  {
   "cell_type": "code",
   "execution_count": 9,
   "metadata": {
    "collapsed": false
   },
   "outputs": [
    {
     "name": "stdout",
     "output_type": "stream",
     "text": [
      "Total drugs:6317\n"
     ]
    },
    {
     "data": {
      "text/plain": [
       "['\"clopra-\"\"yellow\"\"\"',\n",
       " '\"germa-medica \"\"mg\"\"\"',\n",
       " '\"hy-pam \"\"25\"\"\"',\n",
       " '\"hydro-serp \"\"25\"\"\"',\n",
       " '\"hydro-serp \"\"50\"\"\"',\n",
       " '8-hour bayer',\n",
       " '8-mop',\n",
       " 'a-hydrocort',\n",
       " 'a-methapred',\n",
       " 'a-n stannous aggregated albumin',\n",
       " 'a-poxide',\n",
       " 'a.p.l.',\n",
       " 'a/t/s',\n",
       " 'abacavir sulfate',\n",
       " 'abacavir sulfate, lamivudine and zidovudine',\n",
       " 'abelcet',\n",
       " 'abilify',\n",
       " 'abilify maintena kit',\n",
       " 'abitrexate',\n",
       " 'ablavar']"
      ]
     },
     "execution_count": 9,
     "metadata": {},
     "output_type": "execute_result"
    }
   ],
   "source": [
    "all_drugs = getUniqueTradeNames(parseOrangebookProducts(orangebookLocation, drug_type='ALL'))\n",
    "print 'Total drugs:{}'.format(len(all_drugs))\n",
    "all_drugs[:20]"
   ]
  },
  {
   "cell_type": "code",
   "execution_count": 10,
   "metadata": {
    "collapsed": true
   },
   "outputs": [],
   "source": [
    "pickle.dump( all_drugs, open( \"all_drugs.p\", \"wb\" ))"
   ]
  },
  {
   "cell_type": "code",
   "execution_count": 11,
   "metadata": {
    "collapsed": false
   },
   "outputs": [
    {
     "name": "stdout",
     "output_type": "stream",
     "text": [
      "Total drugs:3785\n"
     ]
    },
    {
     "data": {
      "text/plain": [
       "['8-mop',\n",
       " 'a-hydrocort',\n",
       " 'a-methapred',\n",
       " 'abacavir sulfate',\n",
       " 'abacavir sulfate, lamivudine and zidovudine',\n",
       " 'abelcet',\n",
       " 'abilify',\n",
       " 'abilify maintena kit',\n",
       " 'ablavar',\n",
       " 'abraxane',\n",
       " 'abreva',\n",
       " 'absorica',\n",
       " 'abstral',\n",
       " 'acamprosate calcium',\n",
       " 'acanya',\n",
       " 'acarbose',\n",
       " 'accolate',\n",
       " 'accuneb',\n",
       " 'accupril',\n",
       " 'accuretic']"
      ]
     },
     "execution_count": 11,
     "metadata": {},
     "output_type": "execute_result"
    }
   ],
   "source": [
    "current_drugs = getUniqueTradeNames(parseOrangebookProducts(orangebookLocation,\n",
    "                                                            drug_type='CURRENT'))\n",
    "print 'Total drugs:{}'.format(len(current_drugs))\n",
    "current_drugs[:20]"
   ]
  },
  {
   "cell_type": "code",
   "execution_count": 12,
   "metadata": {
    "collapsed": true
   },
   "outputs": [],
   "source": [
    "pickle.dump( current_drugs, open( \"current_drugs.p\", \"wb\" ))"
   ]
  },
  {
   "cell_type": "code",
   "execution_count": 13,
   "metadata": {
    "collapsed": false
   },
   "outputs": [
    {
     "name": "stdout",
     "output_type": "stream",
     "text": [
      "Total drugs:3568\n"
     ]
    },
    {
     "data": {
      "text/plain": [
       "['8-mop',\n",
       " 'a-hydrocort',\n",
       " 'a-methapred',\n",
       " 'abacavir sulfate',\n",
       " 'abacavir sulfate, lamivudine and zidovudine',\n",
       " 'abelcet',\n",
       " 'abilify',\n",
       " 'abilify maintena kit',\n",
       " 'ablavar',\n",
       " 'abraxane',\n",
       " 'absorica',\n",
       " 'abstral',\n",
       " 'acamprosate calcium',\n",
       " 'acanya',\n",
       " 'acarbose',\n",
       " 'accolate',\n",
       " 'accuneb',\n",
       " 'accupril',\n",
       " 'accuretic',\n",
       " 'acebutolol hydrochloride']"
      ]
     },
     "execution_count": 13,
     "metadata": {},
     "output_type": "execute_result"
    }
   ],
   "source": [
    "rx_drugs = getUniqueTradeNames(parseOrangebookProducts(orangebookLocation,\n",
    "                                                       drug_type='RX'))\n",
    "print 'Total drugs:{}'.format(len(rx_drugs))\n",
    "rx_drugs[:20]"
   ]
  },
  {
   "cell_type": "code",
   "execution_count": 14,
   "metadata": {
    "collapsed": true
   },
   "outputs": [],
   "source": [
    "pickle.dump( rx_drugs, open( \"rx_drugs.p\", \"wb\" ))"
   ]
  },
  {
   "cell_type": "code",
   "execution_count": 15,
   "metadata": {
    "collapsed": false
   },
   "outputs": [
    {
     "name": "stdout",
     "output_type": "stream",
     "text": [
      "Total drugs:242\n"
     ]
    },
    {
     "data": {
      "text/plain": [
       "['abreva',\n",
       " 'acephen',\n",
       " 'acetaminophen',\n",
       " 'acetaminophen, aspirin and caffeine',\n",
       " 'advil',\n",
       " 'advil allergy and congestion relief',\n",
       " 'advil allergy sinus',\n",
       " 'advil cold and sinus',\n",
       " 'advil congestion relief',\n",
       " 'advil liqui-gels',\n",
       " 'advil migraine liqui-gels',\n",
       " 'advil pm',\n",
       " 'afrinol',\n",
       " 'alavert',\n",
       " 'alaway',\n",
       " 'aleve',\n",
       " 'aleve pm',\n",
       " 'aleve-d sinus & cold',\n",
       " 'allegra allergy',\n",
       " 'allegra hives']"
      ]
     },
     "execution_count": 15,
     "metadata": {},
     "output_type": "execute_result"
    }
   ],
   "source": [
    "otc_drugs = getUniqueTradeNames(parseOrangebookProducts(orangebookLocation,\n",
    "                                                        drug_type='OTC'))\n",
    "print 'Total drugs:{}'.format(len(otc_drugs))\n",
    "otc_drugs[:20]"
   ]
  },
  {
   "cell_type": "code",
   "execution_count": 16,
   "metadata": {
    "collapsed": true
   },
   "outputs": [],
   "source": [
    "pickle.dump( otc_drugs, open( \"otc_drugs.p\", \"wb\" ))"
   ]
  },
  {
   "cell_type": "code",
   "execution_count": 17,
   "metadata": {
    "collapsed": false
   },
   "outputs": [
    {
     "name": "stdout",
     "output_type": "stream",
     "text": [
      "Total drugs:3599\n"
     ]
    },
    {
     "data": {
      "text/plain": [
       "['\"clopra-\"\"yellow\"\"\"',\n",
       " '\"germa-medica \"\"mg\"\"\"',\n",
       " '\"hy-pam \"\"25\"\"\"',\n",
       " '\"hydro-serp \"\"25\"\"\"',\n",
       " '\"hydro-serp \"\"50\"\"\"',\n",
       " '8-hour bayer',\n",
       " 'a-hydrocort',\n",
       " 'a-methapred',\n",
       " 'a-n stannous aggregated albumin',\n",
       " 'a-poxide',\n",
       " 'a.p.l.',\n",
       " 'a/t/s',\n",
       " 'abilify',\n",
       " 'abitrexate',\n",
       " 'accretropin',\n",
       " 'accurbron',\n",
       " 'accutane',\n",
       " 'acebutolol hydrochloride',\n",
       " 'acephen',\n",
       " 'acetaminophen']"
      ]
     },
     "execution_count": 17,
     "metadata": {},
     "output_type": "execute_result"
    }
   ],
   "source": [
    "discontinued_drugs = getUniqueTradeNames(parseOrangebookProducts(orangebookLocation,\n",
    "                                                                 drug_type='DISCN'))\n",
    "print 'Total drugs:{}'.format(len(discontinued_drugs))\n",
    "discontinued_drugs[:20]"
   ]
  },
  {
   "cell_type": "code",
   "execution_count": 18,
   "metadata": {
    "collapsed": true
   },
   "outputs": [],
   "source": [
    "pickle.dump( discontinued_drugs, open( \"discontinued_drugs.p\", \"wb\" ))"
   ]
  }
 ],
 "metadata": {
  "kernelspec": {
   "display_name": "Python 2",
   "language": "python",
   "name": "python2"
  },
  "language_info": {
   "codemirror_mode": {
    "name": "ipython",
    "version": 2
   },
   "file_extension": ".py",
   "mimetype": "text/x-python",
   "name": "python",
   "nbconvert_exporter": "python",
   "pygments_lexer": "ipython2",
   "version": "2.7.9"
  }
 },
 "nbformat": 4,
 "nbformat_minor": 0
}

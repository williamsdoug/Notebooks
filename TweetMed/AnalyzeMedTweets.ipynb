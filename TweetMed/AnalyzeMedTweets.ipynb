{
 "cells": [
  {
   "cell_type": "markdown",
   "metadata": {},
   "source": [
    "#Analyze Medical Symptom related tweets\n",
    "\n",
    "Steps:\n",
    "- Load list of drugs [done]\n",
    "- Filter tweets by reference to drug [done]\n",
    "- Additional filter to determine relevance\n",
    "- Sentiment analysis of selected tweets\n",
    "\n",
    "To Do:\n",
    "- Fix IOError exception handling (continue with next file)"
   ]
  },
  {
   "cell_type": "markdown",
   "metadata": {},
   "source": [
    "###Tweet Format\n",
    "\n",
    "```python\n",
    "[u'contributors',\n",
    " u'truncated',\n",
    " u'text',\n",
    " u'in_reply_to_status_id',\n",
    " u'id',\n",
    " u'favorite_count',\n",
    " u'source',\n",
    " u'retweeted',\n",
    " u'coordinates',\n",
    " u'timestamp_ms',\n",
    " u'entities',\n",
    " u'in_reply_to_screen_name',\n",
    " u'id_str',\n",
    " u'retweet_count',\n",
    " u'in_reply_to_user_id',\n",
    " u'favorited',\n",
    " u'retweeted_status',\n",
    " u'user',\n",
    " u'geo',\n",
    " u'in_reply_to_user_id_str',\n",
    " u'possibly_sensitive',\n",
    " u'lang',\n",
    " u'created_at',\n",
    " u'filter_level',\n",
    " u'in_reply_to_status_id_str',\n",
    " u'place',\n",
    " u'extended_entities']\n",
    "```"
   ]
  },
  {
   "cell_type": "code",
   "execution_count": 1,
   "metadata": {
    "collapsed": true
   },
   "outputs": [],
   "source": [
    "import pickle\n",
    "import gzip\n",
    "import sys\n",
    "from pprint import pprint\n",
    "import collections\n",
    "import os\n",
    "import json\n",
    "\n",
    "from pattern.en import parse\n",
    "from pattern.en import ngrams"
   ]
  },
  {
   "cell_type": "code",
   "execution_count": 2,
   "metadata": {
    "collapsed": true
   },
   "outputs": [],
   "source": [
    "DIR_PATH = './'\n",
    "MAX_DRUG_NGRAM = 3"
   ]
  },
  {
   "cell_type": "markdown",
   "metadata": {},
   "source": [
    "#Code"
   ]
  },
  {
   "cell_type": "code",
   "execution_count": 3,
   "metadata": {
    "collapsed": true
   },
   "outputs": [],
   "source": [
    "#generator function to return all tweets in a zipped firectory\n",
    "def all_tweets(directory, extract=lambda x:json.loads(x)):\n",
    "    for fn in os.listdir(directory):\n",
    "        if fn.endswith('.json.gz'):\n",
    "            try:\n",
    "                f = gzip.open(directory+fn, 'rb')\n",
    "                for line in f:\n",
    "                    yield extract(line)\n",
    "                f.close()\n",
    "            except IOError:\n",
    "                print 'IOError for file {}'.format(fn)\n",
    "                pass"
   ]
  },
  {
   "cell_type": "code",
   "execution_count": 4,
   "metadata": {
    "collapsed": true
   },
   "outputs": [],
   "source": [
    "def myfilter(x):\n",
    "    x = json.loads(x)\n",
    "    result={}\n",
    "    if 'delete' not in x:\n",
    "        \n",
    "        if 'text' in x:\n",
    "            result['text'] = x['text']\n",
    "        else:\n",
    "            False\n",
    "        if 'id_str' in x:\n",
    "            result['id_str'] = x['id_str']\n",
    "        if 'user' in x and 'screen_name' in x['user']:\n",
    "            result['screen_name'] = x['user']['screen_name']\n",
    "        #result['name'] = x['user']['name']\n",
    "        if 'entities' in x:\n",
    "            result['user_mentions'] = [men['screen_name'].lower() for men in x['entities']['user_mentions']]\n",
    "            result['hashtags'] = [entry['text'].lower() for entry in x['entities']['hashtags']]\n",
    "        if 'lang' in x:\n",
    "            result['lang'] = x['lang']\n",
    "        return result\n",
    "    else:\n",
    "        False"
   ]
  },
  {
   "cell_type": "code",
   "execution_count": 5,
   "metadata": {
    "collapsed": false,
    "scrolled": false
   },
   "outputs": [],
   "source": [
    "#test routine for all_tweets\n",
    "def test_load_tweet(dir_path=DIR_PATH):\n",
    "    all_count = 0\n",
    "    count = 0\n",
    "    has_text = 0\n",
    "    users = collections.defaultdict(int)\n",
    "    mentions = collections.defaultdict(int)\n",
    "    hashtags = collections.defaultdict(int)\n",
    "    try:\n",
    "        for x in all_tweets(dir_path, extract=myfilter):\n",
    "            if x:\n",
    "                all_count += 1\n",
    "            else:\n",
    "                continue\n",
    "            if 'text' in x:\n",
    "                has_text += 1\n",
    "            if x and x['lang']=='en':\n",
    "                count += 1\n",
    "                users[x['screen_name'].lower()] += 1\n",
    "                for tag in x['hashtags']:\n",
    "                    #pprint.pprint(tag)\n",
    "                    hashtags[tag] += 1\n",
    "                for men in x['user_mentions']:\n",
    "                    mentions[men] += 1\n",
    "    except IOError:\n",
    "        print 'IOError'\n",
    "        print 'foobar'\n",
    "        pass\n",
    "    print 'total tweets:', all_count\n",
    "    print 'total tweets with text:', has_text\n",
    "    print 'total english tweets: ', count\n",
    "    print 'unique users: ',len(users)\n",
    "    print 'unique mentions: ',len(mentions)\n",
    "    print 'unique hashtags: ',len(hashtags)"
   ]
  },
  {
   "cell_type": "code",
   "execution_count": 6,
   "metadata": {
    "collapsed": true
   },
   "outputs": [],
   "source": [
    "def load_tweet(dir_path=DIR_PATH):\n",
    "    result = []\n",
    "\n",
    "    for x in all_tweets(dir_path, extract=myfilter):\n",
    "            if not x:\n",
    "                continue\n",
    "            if 'text' not in x:\n",
    "                continue\n",
    "            if x and x['lang']=='en':\n",
    "                result.append(x)\n",
    "\n",
    "    return result"
   ]
  },
  {
   "cell_type": "code",
   "execution_count": 7,
   "metadata": {
    "collapsed": false
   },
   "outputs": [],
   "source": [
    "def createDrugLookupTable(fname, max_drug_ngram=MAX_DRUG_NGRAM):\n",
    "    ngrams_lookup = [list([]) for i in range(max_drug_ngram+1)]\n",
    "    ignored = 0\n",
    "    drug_list = pickle.load(open(fname, \"rb\" ))\n",
    "    \n",
    "    idx_drugs = {name.strip().lower() for name in drug_list if ' ' not in name.strip()}\n",
    "    all_ngrams = [name.strip().lower() for name in drug_list if ' ' in name.strip()]\n",
    "    \n",
    "    for ngram in all_ngrams:\n",
    "        size = len(ngram.split())\n",
    "        if size <= max_drug_ngram:\n",
    "            ngrams_lookup[size].append(ngram)\n",
    "        else:\n",
    "            ignored += 1\n",
    "            \n",
    "    idx_drugs_ngram = [set(x) for x in ngrams_lookup]\n",
    "    print '{}:'.format(fname)\n",
    "    \n",
    "    print '    Simple drug names: {0}  NGRAM Drug names: {1}'.format(len(idx_drugs),\n",
    "                                                                 len(all_ngrams))\n",
    "    print '    NGRAM drug names ignore due to length: {}'.format(ignored)\n",
    "    return idx_drugs, idx_drugs_ngram"
   ]
  },
  {
   "cell_type": "markdown",
   "metadata": {},
   "source": [
    "#Load Data"
   ]
  },
  {
   "cell_type": "code",
   "execution_count": 8,
   "metadata": {
    "collapsed": false
   },
   "outputs": [],
   "source": [
    "combined_symptoms = pickle.load(open(\"symptoms.p\", \"rb\" ))"
   ]
  },
  {
   "cell_type": "code",
   "execution_count": 9,
   "metadata": {
    "collapsed": false
   },
   "outputs": [
    {
     "name": "stdout",
     "output_type": "stream",
     "text": [
      "all_drugs.p:\n",
      "    Simple drug names: 3622  NGRAM Drug names: 2691\n",
      "    NGRAM drug names ignore due to length: 951\n",
      "current_drugs.p:\n",
      "    Simple drug names: 2076  NGRAM Drug names: 1706\n",
      "    NGRAM drug names ignore due to length: 615\n",
      "rx_drugs.p:\n",
      "    Simple drug names: 2019  NGRAM Drug names: 1546\n",
      "    NGRAM drug names ignore due to length: 576\n",
      "otc_drugs.p:\n",
      "    Simple drug names: 68  NGRAM Drug names: 174\n",
      "    NGRAM drug names ignore due to length: 40\n",
      "discontinued_drugs.p:\n",
      "    Simple drug names: 2099  NGRAM Drug names: 1500\n",
      "    NGRAM drug names ignore due to length: 476\n"
     ]
    }
   ],
   "source": [
    "idx_all_drugs, idx_all_drugs_ngram = createDrugLookupTable('all_drugs.p')\n",
    "idx_current_drugs, idx_current_drugs_ngram = createDrugLookupTable('current_drugs.p')\n",
    "idx_rx_drugs, idx_rx_drugs_ngram = createDrugLookupTable('rx_drugs.p')\n",
    "idx_otc_drugs, idx_otc_drugs_ngram = createDrugLookupTable('otc_drugs.p')\n",
    "idx_discontinued_drugs, idx_discontinued_drugs_ngram = createDrugLookupTable('discontinued_drugs.p')"
   ]
  },
  {
   "cell_type": "markdown",
   "metadata": {},
   "source": [
    "#Analysis"
   ]
  },
  {
   "cell_type": "raw",
   "metadata": {},
   "source": [
    "test_load_tweet()"
   ]
  },
  {
   "cell_type": "code",
   "execution_count": 10,
   "metadata": {
    "collapsed": false
   },
   "outputs": [
    {
     "name": "stdout",
     "output_type": "stream",
     "text": [
      "IOError for file 1433112631492061.json.gz\n",
      "IOError for file 1433127189924036.json.gz\n"
     ]
    }
   ],
   "source": [
    "tweet_corpus = load_tweet()"
   ]
  },
  {
   "cell_type": "code",
   "execution_count": 11,
   "metadata": {
    "collapsed": false
   },
   "outputs": [
    {
     "name": "stdout",
     "output_type": "stream",
     "text": [
      "181107\n"
     ]
    }
   ],
   "source": [
    "print len(tweet_corpus)"
   ]
  },
  {
   "cell_type": "code",
   "execution_count": 12,
   "metadata": {
    "collapsed": true
   },
   "outputs": [],
   "source": [
    "ignore = [\n",
    "'camila',\n",
    "'nikki',\n",
    "'testosterone',\n",
    "'ella',\n",
    "'fml',\n",
    "'muse', \n",
    "'viagra',\n",
    "'talc',\n",
    "'bal',\n",
    "    ]"
   ]
  },
  {
   "cell_type": "code",
   "execution_count": 13,
   "metadata": {
    "collapsed": false
   },
   "outputs": [
    {
     "name": "stdout",
     "output_type": "stream",
     "text": [
      "** wellbutrin ** @billygunn19 they put me on it to counteract the decrease in hunger from the wellbutrin. thankfully i could use a few pounds :)\n",
      "** yasmin ** listen to lecture on overcoming sadness and depression - yasmin mogahed by yasmin.mogahed #np on #soundcloud\n",
      "http://t.co/kfehqx4yw1\n",
      "** soma ** rt @nichegamer: amnesia spiritual successor, soma, is set for a september 22 release on ps4 and pc http://t.co/bhrrcesaen http://t.co/exw9b…\n",
      "** dexamethasone ** re: vaccine treatments for brain tumours: dexamethasone remains critical to control edema, but does this inhibit immune therapy? #asco15\n",
      "** zyrtec ** @jacob_ladder @besafe71 try zyrtec, works the same w/o the drowsiness.\n",
      "** prilosec ** free prilosec sample for heartburn (new link) http://t.co/fr70xvvxp2) http://t.co/9wn1skegde\n",
      "** sonata ** fit 2006-2010 06-09 10 hyundai sonata wind deflector window visor sun guard 4pc http://t.co/ncuhhmgggj http://t.co/jluvx8d2gx\n",
      "** yasmin ** @yungtaxi @wolfiehan yasmin chill u hoe :/\n",
      "** abilify ** damfuggin abilify commercial... smh glad i got my depression under control. just sayin'. lol! but for real #mentalhealth is serious\n",
      "** ibuprofen ** ibuprofen is starting to wear off ....i almost forgot how bad the pain was\n",
      "** sonata ** can't go joy riding cause ain't no gas in the sonata.\n",
      "** ssd ** deals &gt;&gt; http://t.co/zpfopaqsoo 1.8\" 50pin 64gb cf card mlc pata kingpsec ssd hdd disk drive fit computer laptop … http://t.co/xg9tejpbgq\n",
      "** ssd ** http://t.co/6rcc9hh3vu 1.8\" 50pin 64gb cf card mlc pata kingpsec ssd hdd disk drive fit computer laptop  via ebay… http://t.co/woijo6kocu\n",
      "** xanax ** tbh i do like to drink because it helps my anxiety in a more social way unlike xanax wich just puts me further into the corner\n",
      "** zithromax ** rt @bob_wachter: even as alert fatigue vexes/harms, absnce of needed alerts can kill too. child w/ long-qt syndrm gets zithromax, dies http…\n",
      "** soma ** soma, sci-fi horror game from amnesia devs, gets trailer and sept ... http://t.co/pscdeps3nr\n",
      "** xanax ** ive never experienced more anxiety than watching san andreas i need a fuking xanax\n",
      "** ibuprofen ** @grumpsterkitty pain isn't bad enough to take stuff most days, just occasionally, but stiffness is always...i take ibuprofen when it hurts\n",
      "** capex ** capex data weaker than treasury hoped: recent business capital expenditure figures were on the low side of tre... http://t.co/wshelaj9vw\n",
      "** tobi ** tobi has 0 chill, she'd be the type of girlfriend to burn the flowers you bought he right in front on you\n",
      "** percocet ** dear percocet,\n",
      "you were supposed to make my pain go away, not make me sick. fuck. you. 😖\n",
      "no love,\n",
      "lori\n",
      "** prozac ** \"sometimes it feels like we're all living in a prozac nation. the united states of depression.\"\n",
      "-prozac nation\n",
      "** prozac ** \"sometimes it feels like we're all living in a prozac nation. the united states of depression.\"\n",
      "-prozac nation\n",
      "** lyrica ** this life without anxiety shit is great. i'm so much less anxious these days. thanks lyrica.\n",
      "** xanax ** more xanax and maalox, stat! :-) #gutfeld rt @greggutfeld: it's 45 minutes away and the butterflies in my stomach have diarrhea. #gutfeld\n",
      "** heather ** right heather, stop being such an anxiety ridden faggot and do it.\n",
      "** heather ** #tb to when i met heather! @haswain hope i see you again☀️ http://t.co/uv1pu2piwf\n",
      "** zithromax ** is zithromax good for yeast infection http://t.co/k1ekga5aov\n",
      "** heather ** @pleb1996 you make me sick to tge stomach heather. you lied to me told me he was disgusting. i thought we were friends. two faced bitch\n",
      "** oxytocin ** cuddling with loved ones releases oxytocin, a hormone which reduces stress and prevents nausea and headaches.\n",
      "** ibuprofen ** @radiantvictory -- playing around.\" she replied once finished. \"there.. if you feel any pain just drink some ibuprofen.\"\n",
      "** onexton ** \"would you rather have adult acne (ew!) or bloody diarrhea  (yay!)?\" a summary of the commercial i just heard for onexton.\n",
      "** oxytocin ** rt @rtffacts: cuddling with loved ones releases oxytocin, a hormone which reduces stress and prevents nausea and headaches.\n",
      "** oxytocin ** rt @rtffacts: cuddling with loved ones releases oxytocin, a hormone which reduces stress and prevents nausea and headaches.\n",
      "** zithromax ** rt @bob_wachter: even as alert fatigue vexes/harms, absnce of needed alerts can kill too. child w/ long-qt syndrm gets zithromax, dies http…\n",
      "** oxytocin ** rt @rtffacts: cuddling with loved ones releases oxytocin, a hormone which reduces stress and prevents nausea and headaches.\n",
      "** oxytocin ** cuddling with loved ones releases oxytocin, a hormone which reduces stress and prevents nausea and headaches. #fact\n",
      "** sps ** 2001 topps heritage huge near set lot of 283 different cards w/ 68 low # sps http://t.co/tvwzqajqkh http://t.co/kwoo7o2sec\n",
      "** oxytocin ** cuddling with loved ones releases oxytocin, a hormone which reduces stress and prevents nausea and headaches. #geekyninja\n",
      "** xanax ** @currageous it gives me so much anxiety. i need a veep-sized xanax\n",
      "** ibuprofen ** does ibuprofen fix a hurting heart?\n",
      "** yasmin ** @93ftnivll yasmin where'd ur chill go\n",
      "** valium ** @abbiehibsch if ur that scared take a valium and chill man.\n",
      "** oxytocin ** rt @fact: cuddling with loved ones releases oxytocin, a hormone which reduces stress and prevents nausea and headaches.\n",
      "** sps ** lmfao sps gotta chill 💀💀 https://t.co/1w2iz0vuan\n",
      "** lorazepam ** @glittermepink22 my physical ailments are causing me anxiety... hence the lorazepam... lol\n",
      "** heather ** rt @hayybalees: at least i will always have low fat french vanilla yogurt and heather in my life @heathershimshak\n",
      "** sps ** rt @liyahliyah_: lmfao sps gotta chill 💀💀 https://t.co/1w2iz0vuan\n",
      "** nitroglycerin ** rt @lmellick: flash pulmonary edema emergency: is everyone using high dose nitroglycerin? https://t.co/s3oeeso9u0 http://t.co/aoqaqas5tr\n",
      "** progesterone ** my 15yo daughter w severe anemia - #progesterone triggered severe #depression -&gt; now diagnosed #bipolar - #hormones http://t.co/rderotrvim\n",
      "** gabapentin ** rt @rakybel: epidural steroid injections compared with gabapentin for lumbosacral radicular pain: http://t.co/yp0xphsbbr\n",
      "** cipro ** sick 4 weeks finally went 2 medspring &amp; evidently = sinus infection, acute bronchitis &amp; fluid in ears. now on cipro &amp; stomach is mess. aiy!\n",
      "** sonata ** needlework pu leather car seat cushion fit for elantra sonata sport 10 pieces - full read by… http://t.co/k2cpc6nde2\n",
      "** xanax ** the only chill pill i need is xanax\n",
      "** xanax ** rt @danny_brito: sweet little bb xanax, please help me find my chill.\n",
      "** klonopin ** @ljhamlin it should. i'm just going to swap the klonopin for a muscle relaxant the doc gave me for my back.\n",
      "** yasmin ** yasmin canada discount card panklav 250mg .. spironolactone teratogenic effects pain adverse… http://t.co/3q0mb5k9eh\n",
      "** spironolactone ** yasmin canada discount card panklav 250mg .. spironolactone teratogenic effects pain adverse… http://t.co/3q0mb5k9eh\n",
      "** ssd ** #deals #456 http://t.co/uatvsrpoll\" 50pin 64gb cf card mlc pata kingpsec ssd hdd disk drive fit computer laptop  v… http://t.co/ioerf0tikj\n",
      "** heather ** @kyriegillette24 @alazemerkey @madison_rakow @benninghoffx3 and chill i don't need heather that much 😂😜\n",
      "** zofran ** rt @thaterguy: the decibel level of your vomiting determines whether you get zofran or compazine.\n",
      "** indomethacin ** rt @ratutawiboda: gout medication indomethacin http://t.co/vcugzq2qoc\n",
      "** oxytocin ** cuddling (or other 'love' acts) helps to heal physical wounds faster due to the release of oxytocin which is proven to reduce swelling.\n",
      "** oxytocin ** rt @bestfactsbook: cuddling (or other 'love' acts) helps to heal physical wounds faster due to the release of oxytocin which is proven to r…\n",
      "** oxytocin ** rt @bestfactsbook: cuddling (or other 'love' acts) helps to heal physical wounds faster due to the release of oxytocin which is proven to r…\n",
      "** oxytocin ** rt @bestfactsbook: cuddling (or other 'love' acts) helps to heal physical wounds faster due to the release of oxytocin which is proven to r…\n",
      "** oxytocin ** rt @bestfactsbook: cuddling (or other 'love' acts) helps to heal physical wounds faster due to the release of oxytocin which is proven to r…\n",
      "** oxytocin ** rt @bestfactsbook: cuddling (or other 'love' acts) helps to heal physical wounds faster due to the release of oxytocin which is proven to r…\n",
      "** ibuprofen ** a male pharmacist trying to convince me id be better off with ibuprofen + paracetamol than ibuprofen + codeine for period pain\n",
      "** ibuprofen ** a male pharmacist trying to convince me id be better off with ibuprofen + paracetamol than ibuprofen + codeine for period pain\n",
      "** oxytocin ** rt @bestfactsbook: cuddling (or other 'love' acts) helps to heal physical wounds faster due to the release of oxytocin which is proven to r…\n",
      "** oxytocin ** rt @bestfactsbook: cuddling (or other 'love' acts) helps to heal physical wounds faster due to the release of oxytocin which is proven to r…\n",
      "** betadine ** beauty tips news : http://t.co/rkowzru9rs #910 betadine solution wound care http://t.co/e9bshqyo5k\n",
      "** oxytocin ** rt @bestfactsbook: cuddling (or other 'love' acts) helps to heal physical wounds faster due to the release of oxytocin which is proven to r…\n",
      "** oxytocin ** rt @bestfactsbook: cuddling (or other 'love' acts) helps to heal physical wounds faster due to the release of oxytocin which is proven to r…\n",
      "** soma ** soma, from the amnesia the dark descent devs, hits pc and in … : http://t.co/gvk5xtdiaj .,,, http://t.co/sqgl557shh\n",
      "** ssd ** huge daily deals &gt; http://t.co/vuxewcevsj #6180 1.8\" 50pin 64gb cf card mlc pata kingpsec ssd hdd disk drive fit … http://t.co/khum5os1hj\n",
      "** oxytocin ** rt @bestfactsbook: cuddling (or other 'love' acts) helps to heal physical wounds faster due to the release of oxytocin which is proven to r…\n",
      "** percocet ** percocet and muscle relaxers in a napkin\n",
      "** oxytocin ** rt @fact: cuddling with loved ones releases oxytocin, a hormone which reduces stress and prevents nausea and headaches.\n",
      "** percocet ** ...all that yellin &amp; yappin, percocet and muscle relaxers in a napkin\n",
      "** sonata ** needlework pu leather car seat cushion fit for elantra sonata sport 10 pieces - full read by… http://t.co/dgngrlb2vh\n",
      "** naproxen ** @austinmahone naproxen pill.i am still bleeding from my menstrual cycle.it is not as heavy as yesterday.however the menstrual cramps&amp;pains\n",
      "** pce ** @francispinon_ just chill out man, i gotta do some hw pce 😚\n",
      "** ssd ** free ebay sniping rt↺ http://t.co/otesd5kn2w amd 8 core gaming computer fx-8320 3.8 ghz, 8gb ram, 120gb ssd, 1 tb hdd ↺please favori\n",
      "** oxytocin ** rt @mysteriousfact: cuddling with a loved one releases oxytocin, a hormone which reduces stress and prevents nausea and headaches.\n",
      "** heather ** low key crying because i thought heather was asleep but she was just being quiet fuck\n"
     ]
    }
   ],
   "source": [
    "counts = collections.defaultdict(int)\n",
    "for t in tweet_corpus:\n",
    "    txt = t['text'].lower()\n",
    "    \n",
    "    # process simple drug names\n",
    "    for one_gram in ngrams(txt, n=1):\n",
    "        tok = one_gram[0]\n",
    "        if tok.startswith('#') or tok.startswith('@'):\n",
    "            tok = tok[1:]\n",
    "        if tok in idx_rx_drugs and tok not in ignore:\n",
    "            print '**', tok, '**', txt\n",
    "            counts[tok] += 1\n",
    "\n",
    "    # now process ngram drug names\n",
    "    for ngram_len in range(2, MAX_DRUG_NGRAM+1):\n",
    "        for ngram in ngrams(txt, n=ngram_len):\n",
    "            for i, val in enumerate(ngram):\n",
    "                if val.startswith('#') or val.startswith('@'):\n",
    "                    ngram[i] = val[1:]\n",
    "            tok = ' '.join(ngram)\n",
    "            if tok in idx_rx_drugs and tok not in ignore:\n",
    "                print '**', tok, '**', txt\n",
    "                counts[tok] += 1"
   ]
  },
  {
   "cell_type": "markdown",
   "metadata": {},
   "source": [
    "Number of instances where trade name RX drug referenced in content of tweet containing symptom-related keywork"
   ]
  },
  {
   "cell_type": "code",
   "execution_count": 14,
   "metadata": {
    "collapsed": false
   },
   "outputs": [
    {
     "name": "stdout",
     "output_type": "stream",
     "text": [
      "[(u'klonopin', 1),\n",
      " (u'percocet', 3),\n",
      " (u'soma', 3),\n",
      " (u'sps', 3),\n",
      " (u'cipro', 1),\n",
      " (u'abilify', 1),\n",
      " (u'betadine', 1),\n",
      " (u'lyrica', 1),\n",
      " (u'ibuprofen', 6),\n",
      " (u'tobi', 1),\n",
      " (u'prozac', 2),\n",
      " (u'heather', 6),\n",
      " (u'capex', 1),\n",
      " (u'prilosec', 1),\n",
      " (u'zithromax', 3),\n",
      " (u'zofran', 1),\n",
      " (u'naproxen', 1),\n",
      " (u'onexton', 1),\n",
      " (u'xanax', 6),\n",
      " (u'lorazepam', 1),\n",
      " (u'sonata', 4),\n",
      " (u'ssd', 5),\n",
      " (u'valium', 1),\n",
      " (u'dexamethasone', 1),\n",
      " (u'zyrtec', 1),\n",
      " (u'yasmin', 4),\n",
      " (u'progesterone', 1),\n",
      " (u'spironolactone', 1),\n",
      " (u'wellbutrin', 1),\n",
      " (u'nitroglycerin', 1),\n",
      " (u'pce', 1),\n",
      " (u'indomethacin', 1),\n",
      " (u'oxytocin', 20),\n",
      " (u'gabapentin', 1)]\n"
     ]
    }
   ],
   "source": [
    "pprint(counts.items())"
   ]
  }
 ],
 "metadata": {
  "kernelspec": {
   "display_name": "Python 2",
   "language": "python",
   "name": "python2"
  },
  "language_info": {
   "codemirror_mode": {
    "name": "ipython",
    "version": 2
   },
   "file_extension": ".py",
   "mimetype": "text/x-python",
   "name": "python",
   "nbconvert_exporter": "python",
   "pygments_lexer": "ipython2",
   "version": "2.7.9"
  }
 },
 "nbformat": 4,
 "nbformat_minor": 0
}

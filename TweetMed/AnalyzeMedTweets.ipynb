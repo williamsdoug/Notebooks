{
 "cells": [
  {
   "cell_type": "markdown",
   "metadata": {},
   "source": [
    "#Analyze Medical Symptom related tweets\n",
    "\n",
    "Steps:\n",
    "- Load list of drugs [done]\n",
    "- Filter tweets by reference to drug [done]\n",
    "- Add spam filter - tweets with large amount of common content\n",
    " - Consider locality sensitive hashing\n",
    "- Additional filter to determine relevance\n",
    "- Sentiment analysis of selected tweets\n",
    "\n",
    "To Do:\n",
    "- Fix IOError exception handling (continue with next file)"
   ]
  },
  {
   "cell_type": "markdown",
   "metadata": {},
   "source": [
    "###Tweet Format\n",
    "\n",
    "```python\n",
    "[u'contributors',\n",
    " u'truncated',\n",
    " u'text',\n",
    " u'in_reply_to_status_id',\n",
    " u'id',\n",
    " u'favorite_count',\n",
    " u'source',\n",
    " u'retweeted',\n",
    " u'coordinates',\n",
    " u'timestamp_ms',\n",
    " u'entities',\n",
    " u'in_reply_to_screen_name',\n",
    " u'id_str',\n",
    " u'retweet_count',\n",
    " u'in_reply_to_user_id',\n",
    " u'favorited',\n",
    " u'retweeted_status',\n",
    " u'user',\n",
    " u'geo',\n",
    " u'in_reply_to_user_id_str',\n",
    " u'possibly_sensitive',\n",
    " u'lang',\n",
    " u'created_at',\n",
    " u'filter_level',\n",
    " u'in_reply_to_status_id_str',\n",
    " u'place',\n",
    " u'extended_entities']\n",
    "```"
   ]
  },
  {
   "cell_type": "code",
   "execution_count": 1,
   "metadata": {
    "collapsed": true
   },
   "outputs": [],
   "source": [
    "import pickle\n",
    "import gzip\n",
    "import sys\n",
    "from pprint import pprint\n",
    "import collections\n",
    "import os\n",
    "import json\n",
    "\n",
    "from pattern.en import parse\n",
    "from pattern.en import ngrams"
   ]
  },
  {
   "cell_type": "code",
   "execution_count": 2,
   "metadata": {
    "collapsed": true
   },
   "outputs": [],
   "source": [
    "DIR_PATH = './Corpus/'\n",
    "MAX_DRUG_NGRAM = 3"
   ]
  },
  {
   "cell_type": "markdown",
   "metadata": {},
   "source": [
    "#Code"
   ]
  },
  {
   "cell_type": "code",
   "execution_count": 3,
   "metadata": {
    "collapsed": true
   },
   "outputs": [],
   "source": [
    "#generator function to return all tweets in a zipped firectory\n",
    "def all_tweets(directory, extract=lambda x:json.loads(x)):\n",
    "    for fn in os.listdir(directory):\n",
    "        if fn.endswith('.json.gz'):\n",
    "            try:\n",
    "                f = gzip.open(directory+fn, 'rb')\n",
    "                for line in f:\n",
    "                    yield extract(line)\n",
    "                f.close()\n",
    "            except IOError:\n",
    "                print 'IOError for file {}'.format(fn)\n",
    "                pass"
   ]
  },
  {
   "cell_type": "code",
   "execution_count": 4,
   "metadata": {
    "collapsed": true
   },
   "outputs": [],
   "source": [
    "def myfilter(x):\n",
    "    x = json.loads(x)\n",
    "    result={}\n",
    "    if 'delete' not in x:\n",
    "        \n",
    "        if 'text' in x:\n",
    "            result['text'] = x['text']\n",
    "        else:\n",
    "            False\n",
    "        if 'id_str' in x:\n",
    "            result['id_str'] = x['id_str']\n",
    "        if 'user' in x and 'screen_name' in x['user']:\n",
    "            result['screen_name'] = x['user']['screen_name']\n",
    "        #result['name'] = x['user']['name']\n",
    "        if 'entities' in x:\n",
    "            result['user_mentions'] = [men['screen_name'].lower() for men in x['entities']['user_mentions']]\n",
    "            result['hashtags'] = [entry['text'].lower() for entry in x['entities']['hashtags']]\n",
    "        if 'lang' in x:\n",
    "            result['lang'] = x['lang']\n",
    "        return result\n",
    "    else:\n",
    "        False"
   ]
  },
  {
   "cell_type": "code",
   "execution_count": 5,
   "metadata": {
    "collapsed": false,
    "scrolled": false
   },
   "outputs": [],
   "source": [
    "#test routine for all_tweets\n",
    "def test_load_tweet(dir_path=DIR_PATH):\n",
    "    all_count = 0\n",
    "    count = 0\n",
    "    has_text = 0\n",
    "    users = collections.defaultdict(int)\n",
    "    mentions = collections.defaultdict(int)\n",
    "    hashtags = collections.defaultdict(int)\n",
    "    try:\n",
    "        for x in all_tweets(dir_path, extract=myfilter):\n",
    "            if x:\n",
    "                all_count += 1\n",
    "            else:\n",
    "                continue\n",
    "            if 'text' in x:\n",
    "                has_text += 1\n",
    "            if x and x['lang']=='en':\n",
    "                count += 1\n",
    "                users[x['screen_name'].lower()] += 1\n",
    "                for tag in x['hashtags']:\n",
    "                    #pprint.pprint(tag)\n",
    "                    hashtags[tag] += 1\n",
    "                for men in x['user_mentions']:\n",
    "                    mentions[men] += 1\n",
    "    except IOError:\n",
    "        print 'IOError'\n",
    "        print 'foobar'\n",
    "        pass\n",
    "    print 'total tweets:', all_count\n",
    "    print 'total tweets with text:', has_text\n",
    "    print 'total english tweets: ', count\n",
    "    print 'unique users: ',len(users)\n",
    "    print 'unique mentions: ',len(mentions)\n",
    "    print 'unique hashtags: ',len(hashtags)"
   ]
  },
  {
   "cell_type": "code",
   "execution_count": 6,
   "metadata": {
    "collapsed": true
   },
   "outputs": [],
   "source": [
    "def load_tweet(dir_path=DIR_PATH, progress=10000):\n",
    "    result = []\n",
    "\n",
    "    for i, x in enumerate(all_tweets(dir_path, extract=myfilter)):\n",
    "        if i%(progress*10) == 0 and i > 0:\n",
    "            print i,\n",
    "            sys.stdout.flush()\n",
    "        elif i%progress == 0 and i > 0:\n",
    "            print '*',\n",
    "            sys.stdout.flush()\n",
    "            \n",
    "        if not x:\n",
    "            continue\n",
    "        if 'text' not in x:\n",
    "            continue\n",
    "        if x and x['lang']=='en':\n",
    "            result.append(x)\n",
    "\n",
    "    return result"
   ]
  },
  {
   "cell_type": "code",
   "execution_count": 7,
   "metadata": {
    "collapsed": false
   },
   "outputs": [],
   "source": [
    "def createDrugLookupTable(fname, max_drug_ngram=MAX_DRUG_NGRAM):\n",
    "    ngrams_lookup = [list([]) for i in range(max_drug_ngram+1)]\n",
    "    ignored = 0\n",
    "    drug_list = pickle.load(open(fname, \"rb\" ))\n",
    "    \n",
    "    idx_drugs = {name.strip().lower() for name in drug_list if ' ' not in name.strip()}\n",
    "    all_ngrams = [name.strip().lower() for name in drug_list if ' ' in name.strip()]\n",
    "    \n",
    "    for ngram in all_ngrams:\n",
    "        size = len(ngram.split())\n",
    "        if size <= max_drug_ngram:\n",
    "            ngrams_lookup[size].append(ngram)\n",
    "        else:\n",
    "            ignored += 1\n",
    "            \n",
    "    idx_drugs_ngram = [set(x) for x in ngrams_lookup]\n",
    "    print '{}:'.format(fname)\n",
    "    \n",
    "    print '    Simple drug names: {0}  NGRAM Drug names: {1}'.format(len(idx_drugs),\n",
    "                                                                 len(all_ngrams))\n",
    "    print '    NGRAM drug names ignore due to length: {}'.format(ignored)\n",
    "    return idx_drugs, idx_drugs_ngram"
   ]
  },
  {
   "cell_type": "code",
   "execution_count": 8,
   "metadata": {
    "collapsed": true
   },
   "outputs": [],
   "source": [
    "def filterToken(tok):\n",
    "    \"\"\"Removes @ and # from token\"\"\"\n",
    "    return tok[1:] if (tok.startswith('#') or tok.startswith('@')) else tok"
   ]
  },
  {
   "cell_type": "code",
   "execution_count": 9,
   "metadata": {
    "collapsed": false,
    "scrolled": true
   },
   "outputs": [],
   "source": [
    "def analyzeTweets(tweet_corpus, ignore=[], progress=10000):\n",
    "    counts = collections.defaultdict(int)\n",
    "    results = []\n",
    "    idx_rx_drugs_subset = idx_rx_drugs.difference(set(ignore))  # filter out ignored drugs\n",
    "    for tweetno, t in enumerate(tweet_corpus):\n",
    "        if tweetno%(progress*10) == 0 and tweetno > 0:\n",
    "            print tweetno,\n",
    "            sys.stdout.flush()\n",
    "        elif tweetno%progress == 0 and tweetno > 0:\n",
    "            print '*',\n",
    "            sys.stdout.flush()\n",
    "        \n",
    "        txt = t['text'].lower()\n",
    "    \n",
    "        if txt.startswith('rt'):  # ignore retweets\n",
    "            continue\n",
    "        \n",
    "        # process simple drug names\n",
    "        all_tokens = {filterToken(one_gram[0]) for one_gram in ngrams(txt, n=1)}\n",
    "        drug_ref = all_tokens.intersection(idx_rx_drugs_subset)\n",
    "        if drug_ref:\n",
    "            results.append({'drugs':list(drug_ref), 'text':txt})\n",
    "            # print '**', list(drug_ref), '**', txt\n",
    "            # print\n",
    "            for tok in drug_ref:\n",
    "                counts[tok] += 1\n",
    "\n",
    "        # now process ngram drug names  ** Currently Disabled **\n",
    "        if False:\n",
    "            for ngram_len in range(2, MAX_DRUG_NGRAM+1):\n",
    "                for ngram in ngrams(txt, n=ngram_len):\n",
    "                    for i, val in enumerate(ngram):\n",
    "                        if val.startswith('#') or val.startswith('@'):\n",
    "                            ngram[i] = val[1:]\n",
    "                    tok = ' '.join(ngram)\n",
    "                    if tok in idx_rx_drugs and tok not in ignore:\n",
    "                        print '**', tok, '**', txt\n",
    "                        counts[tok] += 1\n",
    "    return results, counts"
   ]
  },
  {
   "cell_type": "markdown",
   "metadata": {},
   "source": [
    "#Load Data"
   ]
  },
  {
   "cell_type": "code",
   "execution_count": 10,
   "metadata": {
    "collapsed": false
   },
   "outputs": [],
   "source": [
    "combined_symptoms = pickle.load(open(\"symptoms.p\", \"rb\" ))"
   ]
  },
  {
   "cell_type": "code",
   "execution_count": 11,
   "metadata": {
    "collapsed": false
   },
   "outputs": [
    {
     "name": "stdout",
     "output_type": "stream",
     "text": [
      "all_drugs.p:\n",
      "    Simple drug names: 3972  NGRAM Drug names: 3810\n",
      "    NGRAM drug names ignore due to length: 1302\n",
      "current_drugs.p:\n",
      "    Simple drug names: 2312  NGRAM Drug names: 2408\n",
      "    NGRAM drug names ignore due to length: 828\n",
      "rx_drugs.p:\n",
      "    Simple drug names: 2253  NGRAM Drug names: 2215\n",
      "    NGRAM drug names ignore due to length: 774\n",
      "otc_drugs.p:\n",
      "    Simple drug names: 78  NGRAM Drug names: 219\n",
      "    NGRAM drug names ignore due to length: 56\n",
      "discontinued_drugs.p:\n",
      "    Simple drug names: 2311  NGRAM Drug names: 2236\n",
      "    NGRAM drug names ignore due to length: 704\n"
     ]
    }
   ],
   "source": [
    "idx_all_drugs, idx_all_drugs_ngram = createDrugLookupTable('all_drugs.p')\n",
    "idx_current_drugs, idx_current_drugs_ngram = createDrugLookupTable('current_drugs.p')\n",
    "idx_rx_drugs, idx_rx_drugs_ngram = createDrugLookupTable('rx_drugs.p')\n",
    "idx_otc_drugs, idx_otc_drugs_ngram = createDrugLookupTable('otc_drugs.p')\n",
    "idx_discontinued_drugs, idx_discontinued_drugs_ngram = createDrugLookupTable('discontinued_drugs.p')"
   ]
  },
  {
   "cell_type": "raw",
   "metadata": {},
   "source": [
    "test_load_tweet()"
   ]
  },
  {
   "cell_type": "code",
   "execution_count": 12,
   "metadata": {
    "collapsed": false
   },
   "outputs": [
    {
     "name": "stdout",
     "output_type": "stream",
     "text": [
      "* * * IOError for file 1433112631492061.json.gz\n",
      "* * * * * * 100000 * * * * * * * * * 200000 * * * * * * * * * 300000 * * * * * * * * * 400000 * * * * * * * * * 500000 * * * * * * * * * 600000 * * * * * * * * * 700000 * * * * * * * * * 800000 * * * * * * * * * 900000 * * IOError for file 1433160165278168.json.gz\n"
     ]
    }
   ],
   "source": [
    "tweet_corpus = load_tweet()"
   ]
  },
  {
   "cell_type": "code",
   "execution_count": 13,
   "metadata": {
    "collapsed": false
   },
   "outputs": [
    {
     "name": "stdout",
     "output_type": "stream",
     "text": [
      "787237\n"
     ]
    }
   ],
   "source": [
    "print len(tweet_corpus)"
   ]
  },
  {
   "cell_type": "markdown",
   "metadata": {},
   "source": [
    "#Analysis"
   ]
  },
  {
   "cell_type": "code",
   "execution_count": 14,
   "metadata": {
    "collapsed": true
   },
   "outputs": [],
   "source": [
    "ignore = [\n",
    "'camila',\n",
    "'nikki',\n",
    "'testosterone',\n",
    "'ella',\n",
    "'fml',\n",
    "'muse', \n",
    "'viagra',\n",
    "'talc',\n",
    "'bal', 'nicotine', 'oxytocin'\n",
    "    ]"
   ]
  },
  {
   "cell_type": "code",
   "execution_count": 15,
   "metadata": {
    "collapsed": false
   },
   "outputs": [
    {
     "name": "stdout",
     "output_type": "stream",
     "text": [
      "* * * * * * * * * 100000 * * * * * * * * * 200000 * * * * * * * * * 300000 * * * * * * * * * 400000 * * * * * * * * * 500000 * * * * * * * * * 600000 * * * * * * * * * 700000 * * * * * * * *\n"
     ]
    }
   ],
   "source": [
    "results, counts = analyzeTweets(tweet_corpus, ignore)"
   ]
  },
  {
   "cell_type": "code",
   "execution_count": 16,
   "metadata": {
    "collapsed": false
   },
   "outputs": [
    {
     "name": "stdout",
     "output_type": "stream",
     "text": [
      "Number of tweets with possible drug references: 485\n"
     ]
    }
   ],
   "source": [
    "print 'Number of tweets with possible drug references: {}'.format(len(results))"
   ]
  },
  {
   "cell_type": "markdown",
   "metadata": {},
   "source": [
    "Sample tweets with possible drug references"
   ]
  },
  {
   "cell_type": "code",
   "execution_count": 17,
   "metadata": {
    "collapsed": false,
    "scrolled": true
   },
   "outputs": [
    {
     "name": "stdout",
     "output_type": "stream",
     "text": [
      "[{'drugs': [u'vasopressin'],\n",
      "  'text': u\"one week off the vasopressin; our son's anxiety is back, hitting himself, and the repetitive behavior-all back #asd http://t.co/movz6tp7kw\"},\n",
      " {'drugs': [u'wellbutrin'],\n",
      "  'text': u'@billygunn19 they put me on it to counteract the decrease in hunger from the wellbutrin. thankfully i could use a few pounds :)'},\n",
      " {'drugs': [u'yasmin'],\n",
      "  'text': u'listen to lecture on overcoming sadness and depression - yasmin mogahed by yasmin.mogahed #np on #soundcloud\\nhttp://t.co/kfehqx4yw1'},\n",
      " {'drugs': [u'dexamethasone'],\n",
      "  'text': u're: vaccine treatments for brain tumours: dexamethasone remains critical to control edema, but does this inhibit immune therapy? #asco15'},\n",
      " {'drugs': [u'zyrtec'],\n",
      "  'text': u'@jacob_ladder @besafe71 try zyrtec, works the same w/o the drowsiness.'},\n",
      " {'drugs': [u'prilosec'],\n",
      "  'text': u'free prilosec sample for heartburn (new link) http://t.co/fr70xvvxp2) http://t.co/9wn1skegde'},\n",
      " {'drugs': [u'sonata'],\n",
      "  'text': u'fit 2006-2010 06-09 10 hyundai sonata wind deflector window visor sun guard 4pc http://t.co/ncuhhmgggj http://t.co/jluvx8d2gx'},\n",
      " {'drugs': [u'yasmin'], 'text': u'@yungtaxi @wolfiehan yasmin chill u hoe :/'},\n",
      " {'drugs': [u'abilify'],\n",
      "  'text': u\"damfuggin abilify commercial... smh glad i got my depression under control. just sayin'. lol! but for real #mentalhealth is serious\"},\n",
      " {'drugs': [u'ibuprofen'],\n",
      "  'text': u'ibuprofen is starting to wear off ....i almost forgot how bad the pain was'},\n",
      " {'drugs': [u'sonata'],\n",
      "  'text': u\"can't go joy riding cause ain't no gas in the sonata.\"},\n",
      " {'drugs': [u'ssd'],\n",
      "  'text': u'deals &gt;&gt; http://t.co/zpfopaqsoo 1.8\" 50pin 64gb cf card mlc pata kingpsec ssd hdd disk drive fit computer laptop \\u2026 http://t.co/xg9tejpbgq'},\n",
      " {'drugs': [u'ssd'],\n",
      "  'text': u'http://t.co/6rcc9hh3vu 1.8\" 50pin 64gb cf card mlc pata kingpsec ssd hdd disk drive fit computer laptop  via ebay\\u2026 http://t.co/woijo6kocu'},\n",
      " {'drugs': [u'xanax'],\n",
      "  'text': u'tbh i do like to drink because it helps my anxiety in a more social way unlike xanax wich just puts me further into the corner'},\n",
      " {'drugs': [u'soma'],\n",
      "  'text': u'soma, sci-fi horror game from amnesia devs, gets trailer and sept ... http://t.co/pscdeps3nr'},\n",
      " {'drugs': [u'xanax'],\n",
      "  'text': u'ive never experienced more anxiety than watching san andreas i need a fuking xanax'},\n",
      " {'drugs': [u'ibuprofen'],\n",
      "  'text': u\"@grumpsterkitty pain isn't bad enough to take stuff most days, just occasionally, but stiffness is always...i take ibuprofen when it hurts\"},\n",
      " {'drugs': [u'capex'],\n",
      "  'text': u'capex data weaker than treasury hoped: recent business capital expenditure figures were on the low side of tre... http://t.co/wshelaj9vw'},\n",
      " {'drugs': [u'glycine'],\n",
      "  'text': u'check this deal : http://t.co/scgrmjeiem #8223 5 lb. l glycine powder pure energy muscle brain health pharmaceuti\\u2026 http://t.co/zfows0asuk'},\n",
      " {'drugs': [u'tobi'],\n",
      "  'text': u\"tobi has 0 chill, she'd be the type of girlfriend to burn the flowers you bought he right in front on you\"},\n",
      " {'drugs': [u'percocet'],\n",
      "  'text': u'dear percocet,\\nyou were supposed to make my pain go away, not make me sick. fuck. you. \\U0001f616\\nno love,\\nlori'},\n",
      " {'drugs': [u'prozac'],\n",
      "  'text': u'\"sometimes it feels like we\\'re all living in a prozac nation. the united states of depression.\"\\n-prozac nation'},\n",
      " {'drugs': [u'lyrica'],\n",
      "  'text': u\"this life without anxiety shit is great. i'm so much less anxious these days. thanks lyrica.\"},\n",
      " {'drugs': [u'xanax'],\n",
      "  'text': u\"more xanax and maalox, stat! :-) #gutfeld rt @greggutfeld: it's 45 minutes away and the butterflies in my stomach have diarrhea. #gutfeld\"},\n",
      " {'drugs': [u'heather'],\n",
      "  'text': u'right heather, stop being such an anxiety ridden faggot and do it.'},\n",
      " {'drugs': [u'heather'],\n",
      "  'text': u'#tb to when i met heather! @haswain hope i see you again\\u2600\\ufe0f http://t.co/uv1pu2piwf'},\n",
      " {'drugs': [u'zithromax'],\n",
      "  'text': u'is zithromax good for yeast infection http://t.co/k1ekga5aov'},\n",
      " {'drugs': [u'heather'],\n",
      "  'text': u'@pleb1996 you make me sick to tge stomach heather. you lied to me told me he was disgusting. i thought we were friends. two faced bitch'},\n",
      " {'drugs': [u'ibuprofen'],\n",
      "  'text': u'@radiantvictory -- playing around.\" she replied once finished. \"there.. if you feel any pain just drink some ibuprofen.\"'},\n",
      " {'drugs': [u'onexton'],\n",
      "  'text': u'\"would you rather have adult acne (ew!) or bloody diarrhea  (yay!)?\" a summary of the commercial i just heard for onexton.'},\n",
      " {'drugs': [u'sps'],\n",
      "  'text': u'2001 topps heritage huge near set lot of 283 different cards w/ 68 low # sps http://t.co/tvwzqajqkh http://t.co/kwoo7o2sec'},\n",
      " {'drugs': [u'xanax'],\n",
      "  'text': u'@currageous it gives me so much anxiety. i need a veep-sized xanax'},\n",
      " {'drugs': [u'ibuprofen'], 'text': u'does ibuprofen fix a hurting heart?'},\n",
      " {'drugs': [u'yasmin'], 'text': u\"@93ftnivll yasmin where'd ur chill go\"},\n",
      " {'drugs': [u'valium'],\n",
      "  'text': u'@abbiehibsch if ur that scared take a valium and chill man.'},\n",
      " {'drugs': [u'sps'],\n",
      "  'text': u'lmfao sps gotta chill \\U0001f480\\U0001f480 https://t.co/1w2iz0vuan'},\n",
      " {'drugs': [u'lorazepam'],\n",
      "  'text': u'@glittermepink22 my physical ailments are causing me anxiety... hence the lorazepam... lol'},\n",
      " {'drugs': [u'copper'],\n",
      "  'text': u'buy gold, crude, copper sell natural gas: ravindra ... http://t.co/uafmcyzdxk'},\n",
      " {'drugs': [u'progesterone'],\n",
      "  'text': u'my 15yo daughter w severe anemia - #progesterone triggered severe #depression -&gt; now diagnosed #bipolar - #hormones http://t.co/rderotrvim'},\n",
      " {'drugs': [u'cipro'],\n",
      "  'text': u'sick 4 weeks finally went 2 medspring &amp; evidently = sinus infection, acute bronchitis &amp; fluid in ears. now on cipro &amp; stomach is mess. aiy!'},\n",
      " {'drugs': [u'sonata'],\n",
      "  'text': u'needlework pu leather car seat cushion fit for elantra sonata sport 10 pieces - full read by\\u2026 http://t.co/k2cpc6nde2'},\n",
      " {'drugs': [u'xanax'], 'text': u'the only chill pill i need is xanax'},\n",
      " {'drugs': [u'klonopin'],\n",
      "  'text': u\"@ljhamlin it should. i'm just going to swap the klonopin for a muscle relaxant the doc gave me for my back.\"},\n",
      " {'drugs': [u'spironolactone', u'yasmin'],\n",
      "  'text': u'yasmin canada discount card panklav 250mg .. spironolactone teratogenic effects pain adverse\\u2026 http://t.co/3q0mb5k9eh'},\n",
      " {'drugs': [u'ssd'],\n",
      "  'text': u'#deals #456 http://t.co/uatvsrpoll\" 50pin 64gb cf card mlc pata kingpsec ssd hdd disk drive fit computer laptop  v\\u2026 http://t.co/ioerf0tikj'},\n",
      " {'drugs': [u'heather'],\n",
      "  'text': u\"@kyriegillette24 @alazemerkey @madison_rakow @benninghoffx3 and chill i don't need heather that much \\U0001f602\\U0001f61c\"},\n",
      " {'drugs': [u'ibuprofen'],\n",
      "  'text': u'a male pharmacist trying to convince me id be better off with ibuprofen + paracetamol than ibuprofen + codeine for period pain'},\n",
      " {'drugs': [u'betadine'],\n",
      "  'text': u'beauty tips news : http://t.co/rkowzru9rs #910 betadine solution wound care http://t.co/e9bshqyo5k'},\n",
      " {'drugs': [u'soma'],\n",
      "  'text': u'soma, from the amnesia the dark descent devs, hits pc and in \\u2026 : http://t.co/gvk5xtdiaj .,,, http://t.co/sqgl557shh'},\n",
      " {'drugs': [u'ssd'],\n",
      "  'text': u'huge daily deals &gt; http://t.co/vuxewcevsj #6180 1.8\" 50pin 64gb cf card mlc pata kingpsec ssd hdd disk drive fit \\u2026 http://t.co/khum5os1hj'},\n",
      " {'drugs': [u'percocet'], 'text': u'percocet and muscle relaxers in a napkin'},\n",
      " {'drugs': [u'percocet'],\n",
      "  'text': u'...all that yellin &amp; yappin, percocet and muscle relaxers in a napkin'},\n",
      " {'drugs': [u'glycine'],\n",
      "  'text': u'beauty offers &gt; http://t.co/qxdrv7bzx7 #00910 5 lb. l glycine powder pure energy muscle brain health pharmaceutic\\u2026 http://t.co/f1a58ost3e'},\n",
      " {'drugs': [u'sonata'],\n",
      "  'text': u'needlework pu leather car seat cushion fit for elantra sonata sport 10 pieces - full read by\\u2026 http://t.co/dgngrlb2vh'},\n",
      " {'drugs': [u'naproxen'],\n",
      "  'text': u'@austinmahone naproxen pill.i am still bleeding from my menstrual cycle.it is not as heavy as yesterday.however the menstrual cramps&amp;pains'},\n",
      " {'drugs': [u'pce'],\n",
      "  'text': u'@francispinon_ just chill out man, i gotta do some hw pce \\U0001f61a'},\n",
      " {'drugs': [u'ssd'],\n",
      "  'text': u'free ebay sniping rt\\u21ba http://t.co/otesd5kn2w amd 8 core gaming computer fx-8320 3.8 ghz, 8gb ram, 120gb ssd, 1 tb hdd \\u21baplease favori'},\n",
      " {'drugs': [u'heather'],\n",
      "  'text': u'low key crying because i thought heather was asleep but she was just being quiet fuck'},\n",
      " {'drugs': [u'xanax'],\n",
      "  'text': u'my ears are ringing i need a xanax and it hurts my throat to swallow pills rn... i want to die'},\n",
      " {'drugs': [u'valium'],\n",
      "  'text': u'popping valium for headaches is a bloody great idea hey. sahhhhhh lucid.'},\n",
      " {'drugs': [u'copper'],\n",
      "  'text': u'finish these couple orders then start playing with these low top forces, i think a copper check is all they need, in my eyes.'},\n",
      " {'drugs': [u'heather'],\n",
      "  'text': u\"seeing heather's split in give up the funk gives me anxiety how do her legs not break in half\"},\n",
      " {'drugs': [u'diflucan'],\n",
      "  'text': u'yeast infection diflucan http://t.co/ejaatowpqc'},\n",
      " {'drugs': [u'azithromycin'],\n",
      "  'text': u\"no more coughing blood or vomiting. thank god. c'mon azithromycin! i plan to go to work tomorrow!\"},\n",
      " {'drugs': [u'heather'],\n",
      "  'text': u\"@heathaaatyler i've been sick and didn't even get to say happy birthday but i love you heather!!! hope it was fantastic\"},\n",
      " {'drugs': [u'xanax'],\n",
      "  'text': u\"i need a xanax after tonight's @gameofthrones. my anxiety levels in fear of jon snow dying were sky high. i was so scared. it was pathetic\"},\n",
      " {'drugs': [u'doral'],\n",
      "  'text': u'the thirst is real \\U0001f697\\U0001f4a8\\U0001f530\\U0001f4af #subielife #dyingtotune #lp @ doral, fl https://t.co/9nxhvmoiny'},\n",
      " {'drugs': [u'xanax'],\n",
      "  'text': u'when the timeline starts idolizing kim k i just get anxiety i need xanax'},\n",
      " {'drugs': [u'ssd'],\n",
      "  'text': u'12+6pin ssd to sata 22pin pcba card fit for 2010 2011 macbook air a1369 mc968 be http://t.co/cohhjhlbr1 http://t.co/umrrz1cje8'},\n",
      " {'drugs': [u'soma'],\n",
      "  'text': u'sick pic of our bass player wes at soma san diego photo credit: ethan wick (sdmetal) \\n\\nmore at:... http://t.co/mrzczkrq9q'},\n",
      " {'drugs': [u'rivaroxaban'],\n",
      "  'text': u'comparative risk of gastrointestinal bleeding with dabigatran, rivaroxaban, and warfarin. abraham ns, et al. bmj 2015 http://t.co/p34xmnwg8d'},\n",
      " {'drugs': [u'ibuprofen'],\n",
      "  'text': u'note: taking 4 ibuprofen does not make you feel numb or take pain away. it only gives you a massive stomach ache....'},\n",
      " {'drugs': [u'ssd'],\n",
      "  'text': u'12+6pin ssd to sata 22pin pcba card fit for 2010 2011 macbook air a1369 mc968 be http://t.co/tsabp5mwii http://t.co/gt2zp7ah1v'},\n",
      " {'drugs': [u'ssd'],\n",
      "  'text': u'12+6pin ssd to sata 22pin pcba card fit for 2010 2011 macbook air a1369 mc968 be http://t.co/pdzzsqxhm4 http://t.co/nxet33qfog'},\n",
      " {'drugs': [u'ssd'],\n",
      "  'text': u'12+6pin ssd to sata 22pin pcba card fit for 2010 2011 macbook air a1369 mc968 be http://t.co/sbwbjuhxoj http://t.co/anfh3p5lnm'},\n",
      " {'drugs': [u'xanax'],\n",
      "  'text': u'for someone with extreme social anxiety, i sure sang torn pretty enthusiastically in fortinos yesterday. thanks @xanax'},\n",
      " {'drugs': [u'yaz'],\n",
      "  'text': u'lot of 11 low grade topps red sox cards 1959 1960 1961 1975 yaz runnels http://t.co/7w4e6w7ath http://t.co/sttj4o6p2g'},\n",
      " {'drugs': [u'valium', u'xanax'],\n",
      "  'text': u\"but xanax, valium, attavan\\nmakes it all ok\\nit's so much more\\nthan a cry for attention\\nno loving hands can sooth this ache\\nso much more than\"},\n",
      " {'drugs': [u'dilaudid'],\n",
      "  'text': u'@iacoguy @interneteh @rex4711 i had iv dilaudid in er once. only drug that *ever* blocked pain being caused by my pinched nerve. wowser.'},\n",
      " {'drugs': [u'xanax'],\n",
      "  'text': u'my pharmacist tried warning me that my prescription may cause drowsiness, i was like \"isn\\'t that the point of xanax\"?'},\n",
      " {'drugs': [u'valium', u'xanax'],\n",
      "  'text': u'\"but xanax, valium, attavan\\nmakes it all ok\\nits so much more\\nthan a cry for attention\\nno loving hands can sooth this ache\"'},\n",
      " {'drugs': [u'ibuprofen'],\n",
      "  'text': u'@arrim18 lol its just ibuprofen so is it really even a pain med?'},\n",
      " {'drugs': [u'neosporin'],\n",
      "  'text': u'plastering neosporin all over my face....i really need this cut to heal by tuesday and this swelling to go down.'},\n",
      " {'drugs': [u'ibuprofen'],\n",
      "  'text': u'codeine, ibuprofen &amp; chlorhexidine. none of them have helped my pain go away ! \\U0001f62d\\U0001f62d\\U0001f62d'},\n",
      " {'drugs': [u'yaz'],\n",
      "  'text': u\"yaz &amp; her many avi's making me sick \\U0001f602\\U0001f602\\U0001f602\\U0001f602\\U0001f602 i can't with her\"},\n",
      " {'drugs': [u'zofran'],\n",
      "  'text': u'the vomiting has stopped with the assistance of the zofran just nausea now.  he pain level is still between a 8... http://t.co/6rsxshntzw'},\n",
      " {'drugs': [u'copper'],\n",
      "  'text': u\"'gold, silver, copper, crude oil, natural gas tips \\u2013 mcx technical analysis for 01-06-2015'  - http://t.co/dkslrybyzy http://t.co/vpusgcowh8\"},\n",
      " {'drugs': [u'acetaminophen'],\n",
      "  'text': u'does acetaminophen reduce more than just your pain? http://t.co/sznrzkcjqt'},\n",
      " {'drugs': [u'ssd'],\n",
      "  'text': u'12+6pin ssd to sata 22pin pcba card fit for 2010 2011 macbook air a1369 mc968 be http://t.co/2ln2zktpdb http://t.co/ahbgnbwz0h'},\n",
      " {'drugs': [u'zoloft', u'prozac'],\n",
      "  'text': u'@tigerlilyysays @theonlybacchus zoloft made my kid crazy enough to bite a classmate on his back. prozac is a miracle for depression, tho.'},\n",
      " {'drugs': [u'ssd'],\n",
      "  'text': u'check this deal &gt;&gt; http://t.co/1kg5stihyj 1.8\" 50pin 64gb cf card mlc pata kingpsec ssd hdd disk drive fit comput\\u2026 http://t.co/fkoiydc18l'},\n",
      " {'drugs': [u'cialis'],\n",
      "  'text': u'cedmundwright exposes low-t republicans #cialis #viagra #teaparty http://t.co/y8hnrr4dyl @conserv_report @swiftread'},\n",
      " {'drugs': [u'cialis'],\n",
      "  'text': u'cedmundwright exposes low-t republicans #cialis #viagra #teaparty http://t.co/xytdmlds4o @conserv_report @swiftread'},\n",
      " {'drugs': [u'soma'],\n",
      "  'text': u'@homurasakibara soma said it fit him ....... im....'},\n",
      " {'drugs': [u'xanax'], 'text': u'everyone needs a xanax chill out'},\n",
      " {'drugs': [u'heather'],\n",
      "  'text': u'http://t.co/1exs2pcqco heather. i deep throat. cums in her ass. #nudes'},\n",
      " {'drugs': [u'copper'],\n",
      "  'text': u'#hyundai #cars hyundai : santa fe sport awd we finance one owner copper brown 2.4l v4 low mi... http://t.co/fqpts8lufb #vehicles #wheels'},\n",
      " {'drugs': [u'nuvigil'],\n",
      "  'text': u\"@aleynamorehuman @chinupclub nuvigil helps my fatigue. but i do weird things like bounce my leg or rub my tongue on my teeth 'til it's raw\"},\n",
      " {'drugs': [u'ssd'],\n",
      "  'text': u'green deals : http://t.co/argqame8pk #41684 1.8\" 50pin 64gb cf card mlc pata kingpsec ssd hdd disk drive fit comp\\u2026 http://t.co/9bsqwncxdv'},\n",
      " {'drugs': [u'xanax'],\n",
      "  'text': u'why all girls hate each other like damn can we take a xanax together and chill'}]\n"
     ]
    }
   ],
   "source": [
    "pprint(results[:100])"
   ]
  },
  {
   "cell_type": "markdown",
   "metadata": {},
   "source": [
    "Number of instances where trade name RX drug referenced in tweet containing symptom-related keyword"
   ]
  },
  {
   "cell_type": "code",
   "execution_count": 18,
   "metadata": {
    "collapsed": false
   },
   "outputs": [
    {
     "name": "stdout",
     "output_type": "stream",
     "text": [
      "[(u'qsymia', 138),\n",
      " (u'copper', 43),\n",
      " (u'ibuprofen', 42),\n",
      " (u'xanax', 34),\n",
      " (u'ssd', 27),\n",
      " (u'heather', 19),\n",
      " (u'soma', 12),\n",
      " (u'valium', 8),\n",
      " (u'sonata', 7),\n",
      " (u'ambien', 7),\n",
      " (u'betadine', 6),\n",
      " (u'yasmin', 6),\n",
      " (u'reglan', 6),\n",
      " (u'prozac', 6),\n",
      " (u'glycine', 5),\n",
      " (u'percocet', 5),\n",
      " (u'seroquel', 4),\n",
      " (u'acetaminophen', 4),\n",
      " (u'neosporin', 4),\n",
      " (u'tobi', 3),\n",
      " (u'zofran', 3),\n",
      " (u'cipro', 3),\n",
      " (u'paxil', 3),\n",
      " (u'adrenalin', 3),\n",
      " (u'yaz', 3),\n",
      " (u'naproxen', 3),\n",
      " (u'selsun', 3),\n",
      " (u'norco', 3),\n",
      " (u'cialis', 3),\n",
      " (u'xifaxan', 2),\n",
      " (u'doral', 2),\n",
      " (u'progesterone', 2),\n",
      " (u'zoladex', 2),\n",
      " (u'zoloft', 2),\n",
      " (u'lasix', 2),\n",
      " (u'mirena', 2),\n",
      " (u'diclofenac', 2),\n",
      " (u'cardura', 2),\n",
      " (u'capex', 2),\n",
      " (u'clonidine', 2),\n",
      " (u'abilify', 2),\n",
      " (u'prilosec', 2),\n",
      " (u'rivaroxaban', 2),\n",
      " (u'azithromycin', 2),\n",
      " (u'sps', 2),\n",
      " (u'zantac', 2),\n",
      " (u'nuvigil', 2),\n",
      " (u'ativan', 2),\n",
      " (u'lyrica', 1),\n",
      " (u'modafinil', 1),\n",
      " (u'xarelto', 1),\n",
      " (u'zithromax', 1),\n",
      " (u'pce', 1),\n",
      " (u'lamictal', 1),\n",
      " (u'albendazole', 1),\n",
      " (u'wellbutrin', 1),\n",
      " (u'klonopin', 1),\n",
      " (u'tigecycline', 1),\n",
      " (u'prednisone', 1),\n",
      " (u'propofol', 1),\n",
      " (u'ospemifene', 1),\n",
      " (u'uloric', 1),\n",
      " (u'omeprazole', 1),\n",
      " (u'skyla', 1),\n",
      " (u'flagyl', 1),\n",
      " (u'dexamethasone', 1),\n",
      " (u'cefotaxime', 1),\n",
      " (u'dilaudid', 1),\n",
      " (u'oxandrolone', 1),\n",
      " (u'ondansetron', 1),\n",
      " (u'vasopressin', 1),\n",
      " (u'ciprofloxacin', 1),\n",
      " (u'colchicine', 1),\n",
      " (u'tenuate', 1),\n",
      " (u'cymbalta', 1),\n",
      " (u'orlistat', 1),\n",
      " (u'lorazepam', 1),\n",
      " (u'azor', 1),\n",
      " (u'zyrtec', 1),\n",
      " (u'spironolactone', 1),\n",
      " (u'aldara', 1),\n",
      " (u'dextrose', 1),\n",
      " (u'hydrochlorothiazide', 1),\n",
      " (u'ultram', 1),\n",
      " (u'osphena', 1),\n",
      " (u'lexapro', 1),\n",
      " (u'diazepam', 1),\n",
      " (u'nexium', 1),\n",
      " (u'onexton', 1),\n",
      " (u'clonazepam', 1),\n",
      " (u'diflucan', 1),\n",
      " (u'oxycontin', 1),\n",
      " (u'ritalin', 1),\n",
      " (u'risperdal', 1)]\n"
     ]
    }
   ],
   "source": [
    "pprint(sorted(counts.items(), key=lambda z: z[1], reverse=True))"
   ]
  },
  {
   "cell_type": "code",
   "execution_count": 19,
   "metadata": {
    "collapsed": true
   },
   "outputs": [],
   "source": [
    "pickle.dump( results, open( \"filtered_tweets.p\", \"wb\" ))\n",
    "pickle.dump( counts, open( \"filtered_tweet_counts.p\", \"wb\" ))"
   ]
  }
 ],
 "metadata": {
  "kernelspec": {
   "display_name": "Python 2",
   "language": "python",
   "name": "python2"
  },
  "language_info": {
   "codemirror_mode": {
    "name": "ipython",
    "version": 2
   },
   "file_extension": ".py",
   "mimetype": "text/x-python",
   "name": "python",
   "nbconvert_exporter": "python",
   "pygments_lexer": "ipython2",
   "version": "2.7.9"
  }
 },
 "nbformat": 4,
 "nbformat_minor": 0
}
